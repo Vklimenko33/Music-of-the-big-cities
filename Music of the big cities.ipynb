{
 "cells": [
  {
   "cell_type": "markdown",
   "metadata": {
    "deletable": false,
    "editable": false,
    "id": "E0vqbgi9ay0H"
   },
   "source": [
    "# Яндекс Музыка"
   ]
  },
  {
   "cell_type": "markdown",
   "metadata": {
    "deletable": false,
    "editable": false,
    "id": "VUC88oWjTJw2"
   },
   "source": [
    "Сравнение Москвы и Петербурга окружено мифами. Например:\n",
    " * Москва — мегаполис, подчинённый жёсткому ритму рабочей недели;\n",
    " * Петербург — культурная столица, со своими вкусами.\n",
    "\n",
    "На данных Яндекс Музыки вы сравните поведение пользователей двух столиц.\n",
    "\n",
    "**Цель исследования** — проверьте три гипотезы:\n",
    "1. Активность пользователей зависит от дня недели. Причём в Москве и Петербурге это проявляется по-разному.\n",
    "2. В понедельник утром в Москве преобладают одни жанры, а в Петербурге — другие. Так же и вечером пятницы преобладают разные жанры — в зависимости от города.\n",
    "3. Москва и Петербург предпочитают разные жанры музыки. В Москве чаще слушают поп-музыку, в Петербурге — русский рэп.\n",
    "\n",
    "**Ход исследования**\n",
    "\n",
    "Данные о поведении пользователей вы получите из файла `yandex_music_project.csv`. О качестве данных ничего не известно. Поэтому перед проверкой гипотез понадобится обзор данных.\n",
    "\n",
    "Вы проверите данные на ошибки и оцените их влияние на исследование. Затем, на этапе предобработки вы поищете возможность исправить самые критичные ошибки данных.\n",
    "\n",
    "Таким образом, исследование пройдёт в три этапа:\n",
    " 1. Обзор данных.\n",
    " 2. Предобработка данных.\n",
    " 3. Проверка гипотез.\n",
    "\n"
   ]
  },
  {
   "cell_type": "markdown",
   "metadata": {
    "deletable": false,
    "editable": false,
    "id": "Ml1hmfXC_Zcs"
   },
   "source": [
    "## Обзор данных\n",
    "\n",
    "Составьте первое представление о данных Яндекс Музыки.\n",
    "\n",
    "\n"
   ]
  },
  {
   "cell_type": "markdown",
   "metadata": {
    "deletable": false,
    "editable": false,
    "id": "57eAOGIz_Zcs",
    "tags": [
     "start_task"
    ]
   },
   "source": [
    "**Задание 1**"
   ]
  },
  {
   "cell_type": "code",
   "execution_count": 1,
   "metadata": {
    "deletable": false,
    "id": "AXN7PHPN_Zcs"
   },
   "outputs": [],
   "source": [
    "# импорт библиотеки pandas\n",
    "import pandas as pd"
   ]
  },
  {
   "cell_type": "markdown",
   "metadata": {
    "deletable": false,
    "editable": false,
    "id": "SG23P8tt_Zcs",
    "tags": [
     "start_task"
    ]
   },
   "source": [
    "**Задание 2**"
   ]
  },
  {
   "cell_type": "code",
   "execution_count": 2,
   "metadata": {
    "deletable": false,
    "id": "fFVu7vqh_Zct"
   },
   "outputs": [],
   "source": [
    "# чтение файла с данными и сохранение в df\n",
    "df = pd.read_csv('/datasets/yandex_music_project.csv')"
   ]
  },
  {
   "cell_type": "markdown",
   "metadata": {
    "deletable": false,
    "editable": false,
    "id": "rDoOMd3uTqnZ",
    "tags": [
     "start_task"
    ]
   },
   "source": [
    "**Задание 3**"
   ]
  },
  {
   "cell_type": "code",
   "execution_count": 3,
   "metadata": {
    "deletable": false,
    "id": "oWTVX3gW_Zct"
   },
   "outputs": [
    {
     "data": {
      "text/html": [
       "<div>\n",
       "<style scoped>\n",
       "    .dataframe tbody tr th:only-of-type {\n",
       "        vertical-align: middle;\n",
       "    }\n",
       "\n",
       "    .dataframe tbody tr th {\n",
       "        vertical-align: top;\n",
       "    }\n",
       "\n",
       "    .dataframe thead th {\n",
       "        text-align: right;\n",
       "    }\n",
       "</style>\n",
       "<table border=\"1\" class=\"dataframe\">\n",
       "  <thead>\n",
       "    <tr style=\"text-align: right;\">\n",
       "      <th></th>\n",
       "      <th>userID</th>\n",
       "      <th>Track</th>\n",
       "      <th>artist</th>\n",
       "      <th>genre</th>\n",
       "      <th>City</th>\n",
       "      <th>time</th>\n",
       "      <th>Day</th>\n",
       "    </tr>\n",
       "  </thead>\n",
       "  <tbody>\n",
       "    <tr>\n",
       "      <th>0</th>\n",
       "      <td>FFB692EC</td>\n",
       "      <td>Kamigata To Boots</td>\n",
       "      <td>The Mass Missile</td>\n",
       "      <td>rock</td>\n",
       "      <td>Saint-Petersburg</td>\n",
       "      <td>20:28:33</td>\n",
       "      <td>Wednesday</td>\n",
       "    </tr>\n",
       "    <tr>\n",
       "      <th>1</th>\n",
       "      <td>55204538</td>\n",
       "      <td>Delayed Because of Accident</td>\n",
       "      <td>Andreas Rönnberg</td>\n",
       "      <td>rock</td>\n",
       "      <td>Moscow</td>\n",
       "      <td>14:07:09</td>\n",
       "      <td>Friday</td>\n",
       "    </tr>\n",
       "    <tr>\n",
       "      <th>2</th>\n",
       "      <td>20EC38</td>\n",
       "      <td>Funiculì funiculà</td>\n",
       "      <td>Mario Lanza</td>\n",
       "      <td>pop</td>\n",
       "      <td>Saint-Petersburg</td>\n",
       "      <td>20:58:07</td>\n",
       "      <td>Wednesday</td>\n",
       "    </tr>\n",
       "    <tr>\n",
       "      <th>3</th>\n",
       "      <td>A3DD03C9</td>\n",
       "      <td>Dragons in the Sunset</td>\n",
       "      <td>Fire + Ice</td>\n",
       "      <td>folk</td>\n",
       "      <td>Saint-Petersburg</td>\n",
       "      <td>08:37:09</td>\n",
       "      <td>Monday</td>\n",
       "    </tr>\n",
       "    <tr>\n",
       "      <th>4</th>\n",
       "      <td>E2DC1FAE</td>\n",
       "      <td>Soul People</td>\n",
       "      <td>Space Echo</td>\n",
       "      <td>dance</td>\n",
       "      <td>Moscow</td>\n",
       "      <td>08:34:34</td>\n",
       "      <td>Monday</td>\n",
       "    </tr>\n",
       "    <tr>\n",
       "      <th>5</th>\n",
       "      <td>842029A1</td>\n",
       "      <td>Преданная</td>\n",
       "      <td>IMPERVTOR</td>\n",
       "      <td>rusrap</td>\n",
       "      <td>Saint-Petersburg</td>\n",
       "      <td>13:09:41</td>\n",
       "      <td>Friday</td>\n",
       "    </tr>\n",
       "    <tr>\n",
       "      <th>6</th>\n",
       "      <td>4CB90AA5</td>\n",
       "      <td>True</td>\n",
       "      <td>Roman Messer</td>\n",
       "      <td>dance</td>\n",
       "      <td>Moscow</td>\n",
       "      <td>13:00:07</td>\n",
       "      <td>Wednesday</td>\n",
       "    </tr>\n",
       "    <tr>\n",
       "      <th>7</th>\n",
       "      <td>F03E1C1F</td>\n",
       "      <td>Feeling This Way</td>\n",
       "      <td>Polina Griffith</td>\n",
       "      <td>dance</td>\n",
       "      <td>Moscow</td>\n",
       "      <td>20:47:49</td>\n",
       "      <td>Wednesday</td>\n",
       "    </tr>\n",
       "    <tr>\n",
       "      <th>8</th>\n",
       "      <td>8FA1D3BE</td>\n",
       "      <td>И вновь продолжается бой</td>\n",
       "      <td>NaN</td>\n",
       "      <td>ruspop</td>\n",
       "      <td>Moscow</td>\n",
       "      <td>09:17:40</td>\n",
       "      <td>Friday</td>\n",
       "    </tr>\n",
       "    <tr>\n",
       "      <th>9</th>\n",
       "      <td>E772D5C0</td>\n",
       "      <td>Pessimist</td>\n",
       "      <td>NaN</td>\n",
       "      <td>dance</td>\n",
       "      <td>Saint-Petersburg</td>\n",
       "      <td>21:20:49</td>\n",
       "      <td>Wednesday</td>\n",
       "    </tr>\n",
       "  </tbody>\n",
       "</table>\n",
       "</div>"
      ],
      "text/plain": [
       "     userID                        Track            artist   genre  \\\n",
       "0  FFB692EC            Kamigata To Boots  The Mass Missile    rock   \n",
       "1  55204538  Delayed Because of Accident  Andreas Rönnberg    rock   \n",
       "2    20EC38            Funiculì funiculà       Mario Lanza     pop   \n",
       "3  A3DD03C9        Dragons in the Sunset        Fire + Ice    folk   \n",
       "4  E2DC1FAE                  Soul People        Space Echo   dance   \n",
       "5  842029A1                    Преданная         IMPERVTOR  rusrap   \n",
       "6  4CB90AA5                         True      Roman Messer   dance   \n",
       "7  F03E1C1F             Feeling This Way   Polina Griffith   dance   \n",
       "8  8FA1D3BE     И вновь продолжается бой               NaN  ruspop   \n",
       "9  E772D5C0                    Pessimist               NaN   dance   \n",
       "\n",
       "             City        time        Day  \n",
       "0  Saint-Petersburg  20:28:33  Wednesday  \n",
       "1            Moscow  14:07:09     Friday  \n",
       "2  Saint-Petersburg  20:58:07  Wednesday  \n",
       "3  Saint-Petersburg  08:37:09     Monday  \n",
       "4            Moscow  08:34:34     Monday  \n",
       "5  Saint-Petersburg  13:09:41     Friday  \n",
       "6            Moscow  13:00:07  Wednesday  \n",
       "7            Moscow  20:47:49  Wednesday  \n",
       "8            Moscow  09:17:40     Friday  \n",
       "9  Saint-Petersburg  21:20:49  Wednesday  "
      ]
     },
     "execution_count": 3,
     "metadata": {},
     "output_type": "execute_result"
    }
   ],
   "source": [
    "# получение первых 10 строк таблицы df\n",
    "df.head(10)"
   ]
  },
  {
   "cell_type": "markdown",
   "metadata": {
    "deletable": false,
    "editable": false,
    "id": "EO73Kwic_Zct",
    "tags": [
     "start_task"
    ]
   },
   "source": [
    "**Задание 4**"
   ]
  },
  {
   "cell_type": "code",
   "execution_count": 4,
   "metadata": {
    "deletable": false,
    "id": "DSf2kIb-_Zct"
   },
   "outputs": [
    {
     "name": "stdout",
     "output_type": "stream",
     "text": [
      "<class 'pandas.core.frame.DataFrame'>\n",
      "RangeIndex: 65079 entries, 0 to 65078\n",
      "Data columns (total 7 columns):\n",
      " #   Column    Non-Null Count  Dtype \n",
      "---  ------    --------------  ----- \n",
      " 0     userID  65079 non-null  object\n",
      " 1   Track     63848 non-null  object\n",
      " 2   artist    57876 non-null  object\n",
      " 3   genre     63881 non-null  object\n",
      " 4     City    65079 non-null  object\n",
      " 5   time      65079 non-null  object\n",
      " 6   Day       65079 non-null  object\n",
      "dtypes: object(7)\n",
      "memory usage: 3.5+ MB\n"
     ]
    }
   ],
   "source": [
    "# получение общей информации о данных в таблице df\n",
    "df.info()"
   ]
  },
  {
   "cell_type": "markdown",
   "metadata": {
    "deletable": false,
    "editable": false,
    "id": "TaQ2Iwbr_Zct"
   },
   "source": [
    "Количество значений в столбцах различается. Значит, в данных есть пропущенные значения."
   ]
  },
  {
   "cell_type": "markdown",
   "metadata": {
    "deletable": false,
    "editable": false,
    "id": "4P0UCWzswgEm",
    "tags": [
     "start_task"
    ]
   },
   "source": [
    "**Задание 5**"
   ]
  },
  {
   "cell_type": "code",
   "execution_count": 5,
   "metadata": {
    "id": "c137-ZstwgEm"
   },
   "outputs": [],
   "source": [
    "# столбец userID лучше переименовать, используя \"змеииный шрифт\""
   ]
  },
  {
   "cell_type": "markdown",
   "metadata": {
    "deletable": false,
    "editable": false,
    "id": "MCB6-dXG_Zct"
   },
   "source": [
    "**Выводы**\n",
    "\n",
    "В каждой строке таблицы — данные о прослушанном треке. Часть колонок описывает саму композицию: название, исполнителя и жанр. Остальные данные рассказывают о пользователе: из какого он города, когда он слушал музыку.\n",
    "\n",
    "Предварительно можно утверждать, что данных достаточно для проверки гипотез. Но встречаются пропуски в данных, а в названиях колонок — расхождения с хорошим стилем.\n",
    "\n",
    "Чтобы двигаться дальше, нужно устранить проблемы в данных."
   ]
  },
  {
   "cell_type": "markdown",
   "metadata": {
    "deletable": false,
    "editable": false,
    "id": "SjYF6Ub9_Zct"
   },
   "source": [
    "## Предобработка данных"
   ]
  },
  {
   "cell_type": "markdown",
   "metadata": {
    "deletable": false,
    "editable": false,
    "id": "dIaKXr29_Zct",
    "tags": [
     "start_task"
    ]
   },
   "source": [
    "### Переименование столбцов\n",
    "\n",
    "**Задание 6**"
   ]
  },
  {
   "cell_type": "code",
   "execution_count": 6,
   "metadata": {
    "deletable": false,
    "id": "oKOTdF_Q_Zct"
   },
   "outputs": [
    {
     "data": {
      "text/plain": [
       "Index(['  userID', 'Track', 'artist', 'genre', '  City  ', 'time', 'Day'], dtype='object')"
      ]
     },
     "execution_count": 6,
     "metadata": {},
     "output_type": "execute_result"
    }
   ],
   "source": [
    "# перечень названий столбцов таблицы df\n",
    "df.columns"
   ]
  },
  {
   "cell_type": "markdown",
   "metadata": {
    "deletable": false,
    "editable": false,
    "id": "zj5534cv_Zct",
    "tags": [
     "start_task"
    ]
   },
   "source": [
    "**Задание 7**"
   ]
  },
  {
   "cell_type": "code",
   "execution_count": 7,
   "metadata": {
    "deletable": false,
    "id": "ISlFqs5y_Zct"
   },
   "outputs": [],
   "source": [
    "# переименование столбцов\n",
    "df = df.rename(columns={'  userID' : 'user_id', 'Track': 'track', '  City  ' : 'city', 'Day' : 'day'})"
   ]
  },
  {
   "cell_type": "markdown",
   "metadata": {
    "deletable": false,
    "editable": false,
    "id": "1dqbh00J_Zct",
    "tags": [
     "start_task"
    ]
   },
   "source": [
    "**Задание 8**"
   ]
  },
  {
   "cell_type": "code",
   "execution_count": 8,
   "metadata": {
    "deletable": false,
    "id": "d4NOAmTW_Zct"
   },
   "outputs": [
    {
     "data": {
      "text/plain": [
       "Index(['user_id', 'track', 'artist', 'genre', 'city', 'time', 'day'], dtype='object')"
      ]
     },
     "execution_count": 8,
     "metadata": {},
     "output_type": "execute_result"
    }
   ],
   "source": [
    "# проверка результатов - перечень названий столбцов\n",
    "df.columns"
   ]
  },
  {
   "cell_type": "markdown",
   "metadata": {
    "deletable": false,
    "editable": false,
    "id": "5ISfbcfY_Zct",
    "tags": [
     "start_task"
    ]
   },
   "source": [
    "### Обработка пропущенных значений\n",
    "\n",
    "**Задание 9**"
   ]
  },
  {
   "cell_type": "code",
   "execution_count": 9,
   "metadata": {
    "deletable": false,
    "id": "RskX29qr_Zct"
   },
   "outputs": [
    {
     "data": {
      "text/plain": [
       "user_id       0\n",
       "track      1231\n",
       "artist     7203\n",
       "genre      1198\n",
       "city          0\n",
       "time          0\n",
       "day           0\n",
       "dtype: int64"
      ]
     },
     "execution_count": 9,
     "metadata": {},
     "output_type": "execute_result"
    }
   ],
   "source": [
    "# подсчёт пропусков\n",
    "df.isna().sum()"
   ]
  },
  {
   "cell_type": "markdown",
   "metadata": {
    "deletable": false,
    "editable": false,
    "id": "fSv2laPA_Zct",
    "tags": [
     "start_task"
    ]
   },
   "source": [
    "**Задание 10**"
   ]
  },
  {
   "cell_type": "code",
   "execution_count": 10,
   "metadata": {
    "deletable": false,
    "id": "KplB5qWs_Zct"
   },
   "outputs": [],
   "source": [
    "# замена пропущенных значений на 'unknown'\n",
    "columns_to_replace = ['track', 'artist', 'genre']\n",
    "for column in columns_to_replace:\n",
    "    df[column] = df[column].fillna('unknown')"
   ]
  },
  {
   "cell_type": "markdown",
   "metadata": {
    "deletable": false,
    "editable": false,
    "id": "Ilsm-MZo_Zct",
    "tags": [
     "start_task"
    ]
   },
   "source": [
    "**Задание 11**"
   ]
  },
  {
   "cell_type": "code",
   "execution_count": 11,
   "metadata": {
    "deletable": false,
    "id": "Tq4nYRX4_Zct"
   },
   "outputs": [
    {
     "data": {
      "text/plain": [
       "user_id    0\n",
       "track      0\n",
       "artist     0\n",
       "genre      0\n",
       "city       0\n",
       "time       0\n",
       "day        0\n",
       "dtype: int64"
      ]
     },
     "execution_count": 11,
     "metadata": {},
     "output_type": "execute_result"
    }
   ],
   "source": [
    "# проверка на отсутствие пропусков\n",
    "df.isna().sum()"
   ]
  },
  {
   "cell_type": "markdown",
   "metadata": {
    "deletable": false,
    "editable": false,
    "id": "BWKRtBJ3_Zct",
    "tags": [
     "start_task"
    ]
   },
   "source": [
    "### Обработка дубликатов\n",
    "\n",
    "**Задание 12**"
   ]
  },
  {
   "cell_type": "code",
   "execution_count": 12,
   "metadata": {
    "deletable": false,
    "id": "36eES_S0_Zct"
   },
   "outputs": [
    {
     "data": {
      "text/plain": [
       "3826"
      ]
     },
     "execution_count": 12,
     "metadata": {},
     "output_type": "execute_result"
    }
   ],
   "source": [
    "# подсчёт явных дубликатов\n",
    "df.duplicated().sum()"
   ]
  },
  {
   "cell_type": "markdown",
   "metadata": {
    "deletable": false,
    "editable": false,
    "id": "Ot25h6XR_Zct",
    "tags": [
     "start_task"
    ]
   },
   "source": [
    "**Задание 13**"
   ]
  },
  {
   "cell_type": "code",
   "execution_count": 13,
   "metadata": {
    "deletable": false,
    "id": "exFHq6tt_Zct"
   },
   "outputs": [],
   "source": [
    "# удаление явных дубликатов, создание новых индексов и удаление старых\n",
    "df = df.drop_duplicates().reset_index(drop=True)"
   ]
  },
  {
   "cell_type": "markdown",
   "metadata": {
    "deletable": false,
    "editable": false,
    "id": "Im2YwBEG_Zct",
    "tags": [
     "start_task"
    ]
   },
   "source": [
    "**Задание 14**"
   ]
  },
  {
   "cell_type": "code",
   "execution_count": 14,
   "metadata": {
    "deletable": false,
    "id": "-8PuNWQ0_Zct"
   },
   "outputs": [
    {
     "data": {
      "text/plain": [
       "0"
      ]
     },
     "execution_count": 14,
     "metadata": {},
     "output_type": "execute_result"
    }
   ],
   "source": [
    "# проверка на отсутствие явных дубликатов\n",
    "df.duplicated().sum()"
   ]
  },
  {
   "cell_type": "markdown",
   "metadata": {
    "deletable": false,
    "editable": false,
    "id": "eSjWwsOh_Zct",
    "tags": [
     "start_task"
    ]
   },
   "source": [
    "**Задание 15**"
   ]
  },
  {
   "cell_type": "code",
   "execution_count": 15,
   "metadata": {
    "deletable": false,
    "id": "JIUcqzZN_Zct"
   },
   "outputs": [
    {
     "data": {
      "text/plain": [
       "array(['acid', 'acoustic', 'action', 'adult', 'africa', 'afrikaans',\n",
       "       'alternative', 'alternativepunk', 'ambient', 'americana',\n",
       "       'animated', 'anime', 'arabesk', 'arabic', 'arena',\n",
       "       'argentinetango', 'art', 'audiobook', 'author', 'avantgarde',\n",
       "       'axé', 'baile', 'balkan', 'beats', 'bigroom', 'black', 'bluegrass',\n",
       "       'blues', 'bollywood', 'bossa', 'brazilian', 'breakbeat', 'breaks',\n",
       "       'broadway', 'cantautori', 'cantopop', 'canzone', 'caribbean',\n",
       "       'caucasian', 'celtic', 'chamber', 'chanson', 'children', 'chill',\n",
       "       'chinese', 'choral', 'christian', 'christmas', 'classical',\n",
       "       'classicmetal', 'club', 'colombian', 'comedy', 'conjazz',\n",
       "       'contemporary', 'country', 'cuban', 'dance', 'dancehall',\n",
       "       'dancepop', 'dark', 'death', 'deep', 'deutschrock', 'deutschspr',\n",
       "       'dirty', 'disco', 'dnb', 'documentary', 'downbeat', 'downtempo',\n",
       "       'drum', 'dub', 'dubstep', 'eastern', 'easy', 'electronic',\n",
       "       'electropop', 'emo', 'entehno', 'epicmetal', 'estrada', 'ethnic',\n",
       "       'eurofolk', 'european', 'experimental', 'extrememetal', 'fado',\n",
       "       'fairytail', 'film', 'fitness', 'flamenco', 'folk', 'folklore',\n",
       "       'folkmetal', 'folkrock', 'folktronica', 'forró', 'frankreich',\n",
       "       'französisch', 'french', 'funk', 'future', 'gangsta', 'garage',\n",
       "       'german', 'ghazal', 'gitarre', 'glitch', 'gospel', 'gothic',\n",
       "       'grime', 'grunge', 'gypsy', 'handsup', \"hard'n'heavy\", 'hardcore',\n",
       "       'hardstyle', 'hardtechno', 'hip', 'hip-hop', 'hiphop',\n",
       "       'historisch', 'holiday', 'hop', 'horror', 'house', 'hymn', 'idm',\n",
       "       'independent', 'indian', 'indie', 'indipop', 'industrial',\n",
       "       'inspirational', 'instrumental', 'international', 'irish', 'jam',\n",
       "       'japanese', 'jazz', 'jewish', 'jpop', 'jungle', 'k-pop',\n",
       "       'karadeniz', 'karaoke', 'kayokyoku', 'korean', 'laiko', 'latin',\n",
       "       'latino', 'leftfield', 'local', 'lounge', 'loungeelectronic',\n",
       "       'lovers', 'malaysian', 'mandopop', 'marschmusik', 'meditative',\n",
       "       'mediterranean', 'melodic', 'metal', 'metalcore', 'mexican',\n",
       "       'middle', 'minimal', 'miscellaneous', 'modern', 'mood', 'mpb',\n",
       "       'muslim', 'native', 'neoklassik', 'neue', 'new', 'newage',\n",
       "       'newwave', 'nu', 'nujazz', 'numetal', 'oceania', 'old', 'opera',\n",
       "       'orchestral', 'other', 'piano', 'podcasts', 'pop', 'popdance',\n",
       "       'popelectronic', 'popeurodance', 'poprussian', 'post',\n",
       "       'posthardcore', 'postrock', 'power', 'progmetal', 'progressive',\n",
       "       'psychedelic', 'punjabi', 'punk', 'quebecois', 'ragga', 'ram',\n",
       "       'rancheras', 'rap', 'rave', 'reggae', 'reggaeton', 'regional',\n",
       "       'relax', 'religious', 'retro', 'rhythm', 'rnb', 'rnr', 'rock',\n",
       "       'rockabilly', 'rockalternative', 'rockindie', 'rockother',\n",
       "       'romance', 'roots', 'ruspop', 'rusrap', 'rusrock', 'russian',\n",
       "       'salsa', 'samba', 'scenic', 'schlager', 'self', 'sertanejo',\n",
       "       'shanson', 'shoegazing', 'showtunes', 'singer', 'ska', 'skarock',\n",
       "       'slow', 'smooth', 'soft', 'soul', 'soulful', 'sound', 'soundtrack',\n",
       "       'southern', 'specialty', 'speech', 'spiritual', 'sport',\n",
       "       'stonerrock', 'surf', 'swing', 'synthpop', 'synthrock',\n",
       "       'sängerportrait', 'tango', 'tanzorchester', 'taraftar', 'tatar',\n",
       "       'tech', 'techno', 'teen', 'thrash', 'top', 'traditional',\n",
       "       'tradjazz', 'trance', 'tribal', 'trip', 'triphop', 'tropical',\n",
       "       'türk', 'türkçe', 'ukrrock', 'unknown', 'urban', 'uzbek',\n",
       "       'variété', 'vi', 'videogame', 'vocal', 'western', 'world',\n",
       "       'worldbeat', 'ïîï', 'электроника'], dtype=object)"
      ]
     },
     "execution_count": 15,
     "metadata": {},
     "output_type": "execute_result"
    }
   ],
   "source": [
    "# просмотр уникальных отсортированных названий жанров\n",
    "sorted_df = df['genre'].sort_values()\n",
    "sorted_df.unique()"
   ]
  },
  {
   "cell_type": "markdown",
   "metadata": {
    "deletable": false,
    "editable": false,
    "id": "qej-Qmuo_Zct",
    "tags": [
     "start_task"
    ]
   },
   "source": [
    "**Задание 16**"
   ]
  },
  {
   "cell_type": "code",
   "execution_count": 16,
   "metadata": {
    "deletable": false,
    "id": "ErNDkmns_Zct"
   },
   "outputs": [],
   "source": [
    "# устранение неявных дубликатов\n",
    "duplicates = ['hip','hop','hip-hop']\n",
    "name = 'hiphop'\n",
    "df['genre'] = df['genre'].replace(duplicates, name)"
   ]
  },
  {
   "cell_type": "markdown",
   "metadata": {
    "deletable": false,
    "editable": false,
    "id": "zQKF16_RG15m",
    "tags": [
     "start_task"
    ]
   },
   "source": [
    "**Задание 17**"
   ]
  },
  {
   "cell_type": "code",
   "execution_count": 17,
   "metadata": {
    "deletable": false,
    "id": "wvixALnFG15m"
   },
   "outputs": [
    {
     "data": {
      "text/plain": [
       "array(['acid', 'acoustic', 'action', 'adult', 'africa', 'afrikaans',\n",
       "       'alternative', 'alternativepunk', 'ambient', 'americana',\n",
       "       'animated', 'anime', 'arabesk', 'arabic', 'arena',\n",
       "       'argentinetango', 'art', 'audiobook', 'author', 'avantgarde',\n",
       "       'axé', 'baile', 'balkan', 'beats', 'bigroom', 'black', 'bluegrass',\n",
       "       'blues', 'bollywood', 'bossa', 'brazilian', 'breakbeat', 'breaks',\n",
       "       'broadway', 'cantautori', 'cantopop', 'canzone', 'caribbean',\n",
       "       'caucasian', 'celtic', 'chamber', 'chanson', 'children', 'chill',\n",
       "       'chinese', 'choral', 'christian', 'christmas', 'classical',\n",
       "       'classicmetal', 'club', 'colombian', 'comedy', 'conjazz',\n",
       "       'contemporary', 'country', 'cuban', 'dance', 'dancehall',\n",
       "       'dancepop', 'dark', 'death', 'deep', 'deutschrock', 'deutschspr',\n",
       "       'dirty', 'disco', 'dnb', 'documentary', 'downbeat', 'downtempo',\n",
       "       'drum', 'dub', 'dubstep', 'eastern', 'easy', 'electronic',\n",
       "       'electropop', 'emo', 'entehno', 'epicmetal', 'estrada', 'ethnic',\n",
       "       'eurofolk', 'european', 'experimental', 'extrememetal', 'fado',\n",
       "       'fairytail', 'film', 'fitness', 'flamenco', 'folk', 'folklore',\n",
       "       'folkmetal', 'folkrock', 'folktronica', 'forró', 'frankreich',\n",
       "       'französisch', 'french', 'funk', 'future', 'gangsta', 'garage',\n",
       "       'german', 'ghazal', 'gitarre', 'glitch', 'gospel', 'gothic',\n",
       "       'grime', 'grunge', 'gypsy', 'handsup', \"hard'n'heavy\", 'hardcore',\n",
       "       'hardstyle', 'hardtechno', 'hiphop', 'historisch', 'holiday',\n",
       "       'horror', 'house', 'hymn', 'idm', 'independent', 'indian', 'indie',\n",
       "       'indipop', 'industrial', 'inspirational', 'instrumental',\n",
       "       'international', 'irish', 'jam', 'japanese', 'jazz', 'jewish',\n",
       "       'jpop', 'jungle', 'k-pop', 'karadeniz', 'karaoke', 'kayokyoku',\n",
       "       'korean', 'laiko', 'latin', 'latino', 'leftfield', 'local',\n",
       "       'lounge', 'loungeelectronic', 'lovers', 'malaysian', 'mandopop',\n",
       "       'marschmusik', 'meditative', 'mediterranean', 'melodic', 'metal',\n",
       "       'metalcore', 'mexican', 'middle', 'minimal', 'miscellaneous',\n",
       "       'modern', 'mood', 'mpb', 'muslim', 'native', 'neoklassik', 'neue',\n",
       "       'new', 'newage', 'newwave', 'nu', 'nujazz', 'numetal', 'oceania',\n",
       "       'old', 'opera', 'orchestral', 'other', 'piano', 'podcasts', 'pop',\n",
       "       'popdance', 'popelectronic', 'popeurodance', 'poprussian', 'post',\n",
       "       'posthardcore', 'postrock', 'power', 'progmetal', 'progressive',\n",
       "       'psychedelic', 'punjabi', 'punk', 'quebecois', 'ragga', 'ram',\n",
       "       'rancheras', 'rap', 'rave', 'reggae', 'reggaeton', 'regional',\n",
       "       'relax', 'religious', 'retro', 'rhythm', 'rnb', 'rnr', 'rock',\n",
       "       'rockabilly', 'rockalternative', 'rockindie', 'rockother',\n",
       "       'romance', 'roots', 'ruspop', 'rusrap', 'rusrock', 'russian',\n",
       "       'salsa', 'samba', 'scenic', 'schlager', 'self', 'sertanejo',\n",
       "       'shanson', 'shoegazing', 'showtunes', 'singer', 'ska', 'skarock',\n",
       "       'slow', 'smooth', 'soft', 'soul', 'soulful', 'sound', 'soundtrack',\n",
       "       'southern', 'specialty', 'speech', 'spiritual', 'sport',\n",
       "       'stonerrock', 'surf', 'swing', 'synthpop', 'synthrock',\n",
       "       'sängerportrait', 'tango', 'tanzorchester', 'taraftar', 'tatar',\n",
       "       'tech', 'techno', 'teen', 'thrash', 'top', 'traditional',\n",
       "       'tradjazz', 'trance', 'tribal', 'trip', 'triphop', 'tropical',\n",
       "       'türk', 'türkçe', 'ukrrock', 'unknown', 'urban', 'uzbek',\n",
       "       'variété', 'vi', 'videogame', 'vocal', 'western', 'world',\n",
       "       'worldbeat', 'ïîï', 'электроника'], dtype=object)"
      ]
     },
     "execution_count": 17,
     "metadata": {},
     "output_type": "execute_result"
    }
   ],
   "source": [
    "# проверка на отсутствие неявных дубликатов\n",
    "sorted_df = df['genre'].sort_values()\n",
    "sorted_df.unique()"
   ]
  },
  {
   "cell_type": "markdown",
   "metadata": {
    "deletable": false,
    "editable": false,
    "id": "jz6a9-7HQUDd"
   },
   "source": [
    "**Выводы**\n",
    "\n",
    "Предобработка обнаружила три проблемы в данных:\n",
    "\n",
    "- нарушения в стиле заголовков,\n",
    "- пропущенные значения,\n",
    "- дубликаты — явные и неявные.\n",
    "\n",
    "Вы исправили заголовки, чтобы упростить работу с таблицей. Без дубликатов исследование станет более точным.\n",
    "\n",
    "Пропущенные значения вы заменили на `'unknown'`. Ещё предстоит увидеть, не повредят ли исследованию пропуски в колонке `genre`.\n",
    "\n",
    "Теперь можно перейти к проверке гипотез."
   ]
  },
  {
   "cell_type": "markdown",
   "metadata": {
    "deletable": false,
    "editable": false,
    "id": "WttZHXH0SqKk"
   },
   "source": [
    "## Проверка гипотез"
   ]
  },
  {
   "cell_type": "markdown",
   "metadata": {
    "deletable": false,
    "editable": false,
    "id": "Im936VVi_Zcu"
   },
   "source": [
    "### Сравнение поведения пользователей двух столиц"
   ]
  },
  {
   "cell_type": "markdown",
   "metadata": {
    "deletable": false,
    "editable": false,
    "id": "nwt_MuaL_Zcu"
   },
   "source": [
    "Первая гипотеза утверждает, что пользователи по-разному слушают музыку в Москве и Санкт-Петербурге. Проверим это предположение по данным о трёх днях недели — понедельнике, среде и пятнице. Для этого:\n",
    "\n",
    "* Разделим пользователей Москвы и Санкт-Петербурга.\n",
    "* Сравним, сколько треков послушала каждая группа пользователей в понедельник, среду и пятницу.\n"
   ]
  },
  {
   "cell_type": "markdown",
   "metadata": {
    "deletable": false,
    "id": "8Dw_YMmT_Zcu",
    "tags": [
     "start_task"
    ]
   },
   "source": [
    "**Задание 18**\n",
    "\n"
   ]
  },
  {
   "cell_type": "code",
   "execution_count": 18,
   "metadata": {
    "deletable": false,
    "id": "0_Qs96oh_Zcu"
   },
   "outputs": [
    {
     "data": {
      "text/plain": [
       "<pandas.core.groupby.generic.SeriesGroupBy object at 0x7f4c6a1c6490>"
      ]
     },
     "execution_count": 18,
     "metadata": {},
     "output_type": "execute_result"
    }
   ],
   "source": [
    "# подсчёт прослушиваний в каждом городе\n",
    "cities = df.groupby('city')['user_id']\n",
    "cities"
   ]
  },
  {
   "cell_type": "markdown",
   "metadata": {
    "id": "dzli3w8o_Zcu",
    "tags": [
     "start_task"
    ]
   },
   "source": [
    "**Задание 19**\n"
   ]
  },
  {
   "cell_type": "code",
   "execution_count": 19,
   "metadata": {
    "deletable": false,
    "id": "uZMKjiJz_Zcu"
   },
   "outputs": [
    {
     "data": {
      "text/plain": [
       "day\n",
       "Friday       21840\n",
       "Monday       21354\n",
       "Wednesday    18059\n",
       "Name: user_id, dtype: int64"
      ]
     },
     "execution_count": 19,
     "metadata": {},
     "output_type": "execute_result"
    }
   ],
   "source": [
    "# подсчёт прослушиваний в каждый из трёх дней\n",
    "days = df.groupby('day')['user_id'].count()\n",
    "days"
   ]
  },
  {
   "cell_type": "markdown",
   "metadata": {
    "deletable": false,
    "editable": false,
    "id": "POzs8bGa_Zcu",
    "tags": [
     "start_task"
    ]
   },
   "source": [
    "**Задание 20**"
   ]
  },
  {
   "cell_type": "code",
   "execution_count": 20,
   "metadata": {
    "deletable": false,
    "id": "Nz3GdQB1_Zcu"
   },
   "outputs": [],
   "source": [
    "def number_tracks(day, city):\n",
    "    track_list = df[df['day'] == day]\n",
    "    # выберите только строки df со значением переменной day в столбце day\n",
    "    track_list = track_list[track_list['city'] == city]\n",
    "    # выберите только строки track_list со значением переменной city в столбце city\n",
    "    track_list_count = track_list['user_id'].count()\n",
    "    # вызовите метод подсчета строк для track_list и выберите столбец user_id\n",
    "    return track_list_count\n",
    "# верните значение track_list_count из функции"
   ]
  },
  {
   "cell_type": "markdown",
   "metadata": {
    "deletable": false,
    "editable": false,
    "id": "ytf7xFrFJQ2r",
    "tags": [
     "start_task"
    ]
   },
   "source": [
    "**Задание 21**"
   ]
  },
  {
   "cell_type": "code",
   "execution_count": 21,
   "metadata": {
    "deletable": false,
    "id": "rJcRATNQ_Zcu"
   },
   "outputs": [
    {
     "data": {
      "text/plain": [
       "15740"
      ]
     },
     "execution_count": 21,
     "metadata": {},
     "output_type": "execute_result"
    }
   ],
   "source": [
    "# количество прослушиваний в Москве по понедельникам\n",
    "number_tracks('Monday', 'Moscow')"
   ]
  },
  {
   "cell_type": "code",
   "execution_count": 22,
   "metadata": {
    "deletable": false,
    "id": "hq_ncZ5T_Zcu"
   },
   "outputs": [
    {
     "data": {
      "text/plain": [
       "5614"
      ]
     },
     "execution_count": 22,
     "metadata": {},
     "output_type": "execute_result"
    }
   ],
   "source": [
    "# количество прослушиваний в Санкт-Петербурге по понедельникам\n",
    "number_tracks('Monday', 'Saint-Petersburg')"
   ]
  },
  {
   "cell_type": "code",
   "execution_count": 23,
   "metadata": {
    "deletable": false,
    "id": "_NTy2VPU_Zcu"
   },
   "outputs": [
    {
     "data": {
      "text/plain": [
       "11056"
      ]
     },
     "execution_count": 23,
     "metadata": {},
     "output_type": "execute_result"
    }
   ],
   "source": [
    "# количество прослушиваний в Москве по средам\n",
    "number_tracks('Wednesday', 'Moscow')"
   ]
  },
  {
   "cell_type": "code",
   "execution_count": 24,
   "metadata": {
    "deletable": false,
    "id": "j2y3TAwo_Zcu"
   },
   "outputs": [
    {
     "data": {
      "text/plain": [
       "7003"
      ]
     },
     "execution_count": 24,
     "metadata": {},
     "output_type": "execute_result"
    }
   ],
   "source": [
    "# количество прослушиваний в Санкт-Петербурге по средам\n",
    "number_tracks('Wednesday', 'Saint-Petersburg')"
   ]
  },
  {
   "cell_type": "code",
   "execution_count": 25,
   "metadata": {
    "deletable": false,
    "id": "vYDw5u_K_Zcu"
   },
   "outputs": [
    {
     "data": {
      "text/plain": [
       "15945"
      ]
     },
     "execution_count": 25,
     "metadata": {},
     "output_type": "execute_result"
    }
   ],
   "source": [
    "number_tracks('Friday', 'Moscow')\n",
    "# количество прослушиваний в Москве по пятницам"
   ]
  },
  {
   "cell_type": "code",
   "execution_count": 26,
   "metadata": {
    "deletable": false,
    "id": "8_yzFtW3_Zcu"
   },
   "outputs": [
    {
     "data": {
      "text/plain": [
       "5895"
      ]
     },
     "execution_count": 26,
     "metadata": {},
     "output_type": "execute_result"
    }
   ],
   "source": [
    "number_tracks('Friday', 'Saint-Petersburg')\n",
    "# количество прослушиваний в Санкт-Петербурге по пятницам"
   ]
  },
  {
   "cell_type": "markdown",
   "metadata": {
    "deletable": false,
    "editable": false,
    "id": "7QXffbO-_Zcu",
    "tags": [
     "start_task"
    ]
   },
   "source": [
    "**Задание 22**"
   ]
  },
  {
   "cell_type": "code",
   "execution_count": 27,
   "metadata": {
    "deletable": false,
    "id": "APAcLpOr_Zcu"
   },
   "outputs": [
    {
     "data": {
      "text/html": [
       "<div>\n",
       "<style scoped>\n",
       "    .dataframe tbody tr th:only-of-type {\n",
       "        vertical-align: middle;\n",
       "    }\n",
       "\n",
       "    .dataframe tbody tr th {\n",
       "        vertical-align: top;\n",
       "    }\n",
       "\n",
       "    .dataframe thead tr th {\n",
       "        text-align: left;\n",
       "    }\n",
       "</style>\n",
       "<table border=\"1\" class=\"dataframe\">\n",
       "  <thead>\n",
       "    <tr>\n",
       "      <th></th>\n",
       "      <th>city</th>\n",
       "      <th>monday</th>\n",
       "      <th>wednesday</th>\n",
       "      <th>friday</th>\n",
       "    </tr>\n",
       "  </thead>\n",
       "  <tbody>\n",
       "    <tr>\n",
       "      <th>0</th>\n",
       "      <td>Москва</td>\n",
       "      <td>15740</td>\n",
       "      <td>11056</td>\n",
       "      <td>15945</td>\n",
       "    </tr>\n",
       "    <tr>\n",
       "      <th>1</th>\n",
       "      <td>Санкт-Петербург</td>\n",
       "      <td>5614</td>\n",
       "      <td>7003</td>\n",
       "      <td>5895</td>\n",
       "    </tr>\n",
       "  </tbody>\n",
       "</table>\n",
       "</div>"
      ],
      "text/plain": [
       "              city monday wednesday friday\n",
       "0           Москва  15740     11056  15945\n",
       "1  Санкт-Петербург   5614      7003   5895"
      ]
     },
     "execution_count": 27,
     "metadata": {},
     "output_type": "execute_result"
    }
   ],
   "source": [
    "# создание таблицы с результатами\n",
    "# вывод таблицы на экран\n",
    "info = pd.DataFrame(data=[['Москва', number_tracks('Monday', 'Moscow'), number_tracks('Wednesday', 'Moscow'), number_tracks('Friday', 'Moscow')], ['Санкт-Петербург', number_tracks('Monday', 'Saint-Petersburg'), number_tracks('Wednesday', 'Saint-Petersburg'), number_tracks('Friday', 'Saint-Petersburg')]], columns=[['city', 'monday', 'wednesday', 'friday']])\n",
    "info"
   ]
  },
  {
   "cell_type": "markdown",
   "metadata": {
    "deletable": false,
    "editable": false,
    "id": "-EgPIHYu_Zcu"
   },
   "source": [
    "**Выводы**\n",
    "\n",
    "Данные показывают разницу поведения пользователей:\n",
    "\n",
    "- В Москве пик прослушиваний приходится на понедельник и пятницу, а в среду заметен спад.\n",
    "- В Петербурге, наоборот, больше слушают музыку по средам. Активность в понедельник и пятницу здесь почти в равной мере уступает среде.\n",
    "\n",
    "Значит, данные говорят в пользу первой гипотезы."
   ]
  },
  {
   "cell_type": "markdown",
   "metadata": {
    "deletable": false,
    "editable": false,
    "id": "atZAxtq4_Zcu"
   },
   "source": [
    "### Музыка в начале и в конце недели"
   ]
  },
  {
   "cell_type": "markdown",
   "metadata": {
    "deletable": false,
    "editable": false,
    "id": "eXrQqXFH_Zcu"
   },
   "source": [
    "Согласно второй гипотезе, утром в понедельник в Москве преобладают одни жанры, а в Петербурге — другие. Так же и вечером пятницы преобладают разные жанры — в зависимости от города."
   ]
  },
  {
   "cell_type": "markdown",
   "metadata": {
    "deletable": false,
    "editable": false,
    "id": "S8UcW6Hw_Zcu",
    "tags": [
     "start_task"
    ]
   },
   "source": [
    "**Задание 23**"
   ]
  },
  {
   "cell_type": "code",
   "execution_count": 28,
   "metadata": {
    "deletable": false,
    "id": "qeaFfM_P_Zcu"
   },
   "outputs": [],
   "source": [
    "# получение таблицы moscow_general из тех строк таблицы df, для которых значение в столбце 'city' равно 'Moscow'\n",
    "moscow_general = df[df['city'] == 'Moscow']"
   ]
  },
  {
   "cell_type": "code",
   "execution_count": 29,
   "metadata": {
    "deletable": false,
    "id": "ORaVRKto_Zcu"
   },
   "outputs": [],
   "source": [
    "# получение таблицы spb_general из тех строк таблицы df, для которых значение в столбце 'city' равно 'Saint-Petersburg'\n",
    "spb_general = df[df['city'] == 'Saint-Petersburg']"
   ]
  },
  {
   "cell_type": "markdown",
   "metadata": {
    "deletable": false,
    "editable": false,
    "id": "MEJV-CX2_Zcu",
    "tags": [
     "start_task"
    ]
   },
   "source": [
    "**Задание 24**"
   ]
  },
  {
   "cell_type": "code",
   "execution_count": 30,
   "metadata": {
    "deletable": false,
    "id": "laJT9BYl_Zcu"
   },
   "outputs": [],
   "source": [
    "def genre_weekday(df, day, time1, time2):\n",
    "    # последовательная фильтрация\n",
    "    # оставляем в genre_df только те строки df, у которых день равен day\n",
    "    genre_df = df[df['day'] == day]\n",
    "    # ваш код здесь\n",
    "    # оставляем в genre_df только те строки genre_df, у которых время меньше time2\n",
    "    genre_df = genre_df[genre_df['time'] < time2]\n",
    "    # ваш код здесь\n",
    "    # оставляем в genre_df только те строки genre_df, у которых время больше time1\n",
    "    genre_df = genre_df[genre_df['time'] > time1]\n",
    "    # ваш код здесь\n",
    "    # сгруппируем отфильтрованный датафрейм по столбцу с названиями жанров, возьмём столбец genre и посчитаем кол-во строк для каждого жанра методом count()\n",
    "    genre_df_grouped = genre_df.groupby('genre')['genre'].count()\n",
    "    # ваш код здесь\n",
    "    # отсортируем результат по убыванию (чтобы в начале Series оказались самые популярные жанры)\n",
    "    genre_df_sorted = genre_df_grouped.sort_values(ascending = False)\n",
    "    # ваш код здесь\n",
    "    # вернём Series с 10 самыми популярными жанрами в указанный отрезок времени заданного дня\n",
    "    return genre_df_sorted[:10]"
   ]
  },
  {
   "cell_type": "markdown",
   "metadata": {
    "deletable": false,
    "editable": false,
    "id": "la2s2_PF_Zcu",
    "tags": [
     "start_task"
    ]
   },
   "source": [
    "**Задание 25**"
   ]
  },
  {
   "cell_type": "code",
   "execution_count": 31,
   "metadata": {
    "deletable": false,
    "id": "yz7itPUQ_Zcu"
   },
   "outputs": [
    {
     "data": {
      "text/plain": [
       "genre\n",
       "pop            781\n",
       "dance          549\n",
       "electronic     480\n",
       "rock           474\n",
       "hiphop         286\n",
       "ruspop         186\n",
       "world          181\n",
       "rusrap         175\n",
       "alternative    164\n",
       "unknown        161\n",
       "Name: genre, dtype: int64"
      ]
     },
     "execution_count": 31,
     "metadata": {},
     "output_type": "execute_result"
    }
   ],
   "source": [
    "# вызов функции для утра понедельника в Москве (вместо df — таблица moscow_general)\n",
    "genre_weekday(moscow_general,'Monday', '07:00', '11:00')"
   ]
  },
  {
   "cell_type": "code",
   "execution_count": 32,
   "metadata": {
    "deletable": false,
    "id": "kwUcHPdy_Zcu"
   },
   "outputs": [
    {
     "data": {
      "text/plain": [
       "genre\n",
       "pop            218\n",
       "dance          182\n",
       "rock           162\n",
       "electronic     147\n",
       "hiphop          80\n",
       "ruspop          64\n",
       "alternative     58\n",
       "rusrap          55\n",
       "jazz            44\n",
       "classical       40\n",
       "Name: genre, dtype: int64"
      ]
     },
     "execution_count": 32,
     "metadata": {},
     "output_type": "execute_result"
    }
   ],
   "source": [
    "# вызов функции для утра понедельника в Петербурге (вместо df — таблица spb_general)\n",
    "genre_weekday(spb_general,'Monday', '07:00', '11:00')"
   ]
  },
  {
   "cell_type": "code",
   "execution_count": 33,
   "metadata": {
    "deletable": false,
    "id": "EzXVRE1o_Zcu"
   },
   "outputs": [
    {
     "data": {
      "text/plain": [
       "genre\n",
       "pop            713\n",
       "rock           517\n",
       "dance          495\n",
       "electronic     482\n",
       "hiphop         273\n",
       "world          208\n",
       "ruspop         170\n",
       "alternative    163\n",
       "classical      163\n",
       "rusrap         142\n",
       "Name: genre, dtype: int64"
      ]
     },
     "execution_count": 33,
     "metadata": {},
     "output_type": "execute_result"
    }
   ],
   "source": [
    "# вызов функции для вечера пятницы в Москве\n",
    "genre_weekday(moscow_general,'Friday', '17:00', '23:00')"
   ]
  },
  {
   "cell_type": "code",
   "execution_count": 34,
   "metadata": {
    "deletable": false,
    "id": "JZaEKu5v_Zcu"
   },
   "outputs": [
    {
     "data": {
      "text/plain": [
       "genre\n",
       "pop            256\n",
       "electronic     216\n",
       "rock           216\n",
       "dance          210\n",
       "hiphop          97\n",
       "alternative     63\n",
       "jazz            61\n",
       "classical       60\n",
       "rusrap          59\n",
       "world           54\n",
       "Name: genre, dtype: int64"
      ]
     },
     "execution_count": 34,
     "metadata": {},
     "output_type": "execute_result"
    }
   ],
   "source": [
    "# вызов функции для вечера пятницы в Петербурге\n",
    "genre_weekday(spb_general,'Friday', '17:00', '23:00')"
   ]
  },
  {
   "cell_type": "markdown",
   "metadata": {
    "deletable": false,
    "editable": false,
    "id": "wrCe4MNX_Zcu"
   },
   "source": [
    "**Выводы**\n",
    "\n",
    "Если сравнить топ-10 жанров в понедельник утром, можно сделать такие выводы:\n",
    "\n",
    "1. В Москве и Петербурге слушают похожую музыку. Единственное различие — в московский рейтинг вошёл жанр “world”, а в петербургский — джаз и классика.\n",
    "\n",
    "2. В Москве пропущенных значений оказалось так много, что значение `'unknown'` заняло десятое место среди самых популярных жанров. Значит, пропущенные значения занимают существенную долю в данных и угрожают достоверности исследования.\n",
    "\n",
    "Вечер пятницы не меняет эту картину. Некоторые жанры поднимаются немного выше, другие спускаются, но в целом топ-10 остаётся тем же самым.\n",
    "\n",
    "Таким образом, вторая гипотеза подтвердилась лишь частично:\n",
    "* Пользователи слушают похожую музыку в начале недели и в конце.\n",
    "* Разница между Москвой и Петербургом не слишком выражена. В Москве чаще слушают русскую популярную музыку, в Петербурге — джаз.\n",
    "\n",
    "Однако пропуски в данных ставят под сомнение этот результат. В Москве их так много, что рейтинг топ-10 мог бы выглядеть иначе, если бы не утерянные  данные о жанрах."
   ]
  },
  {
   "cell_type": "markdown",
   "metadata": {
    "deletable": false,
    "editable": false,
    "id": "JolODAqr_Zcu"
   },
   "source": [
    "### Жанровые предпочтения в Москве и Петербурге\n",
    "\n",
    "Гипотеза: Петербург — столица рэпа, музыку этого жанра там слушают чаще, чем в Москве.  А Москва — город контрастов, в котором, тем не менее, преобладает поп-музыка."
   ]
  },
  {
   "cell_type": "markdown",
   "metadata": {
    "deletable": false,
    "editable": false,
    "id": "DlegSvaT_Zcu",
    "tags": [
     "start_task"
    ]
   },
   "source": [
    "**Задание 26**"
   ]
  },
  {
   "cell_type": "code",
   "execution_count": 41,
   "metadata": {
    "deletable": false,
    "id": "r19lIPke_Zcu"
   },
   "outputs": [],
   "source": [
    "# одной строкой: группировка таблицы moscow_general по столбцу 'genre', выбор столбца `genre`, подсчёт числа значений 'genre' методом count(), сохранение в moscow_genres\n",
    "# сортировка получившегося Series в порядке убывания и сохранение обратно в moscow_genres\n",
    "moscow_genres = moscow_general.groupby('genre')['genre'].count()\n",
    "moscow_genres = moscow_genres.sort_values(ascending = False)"
   ]
  },
  {
   "cell_type": "markdown",
   "metadata": {
    "deletable": false,
    "editable": false,
    "id": "6kMuomxTiIr8",
    "tags": [
     "start_task"
    ]
   },
   "source": [
    "**Задание 27**"
   ]
  },
  {
   "cell_type": "code",
   "execution_count": 42,
   "metadata": {
    "deletable": false,
    "id": "WhCSooF8_Zcv"
   },
   "outputs": [
    {
     "data": {
      "text/plain": [
       "genre\n",
       "pop            5892\n",
       "dance          4435\n",
       "rock           3965\n",
       "electronic     3786\n",
       "hiphop         2096\n",
       "classical      1616\n",
       "world          1432\n",
       "alternative    1379\n",
       "ruspop         1372\n",
       "rusrap         1161\n",
       "Name: genre, dtype: int64"
      ]
     },
     "execution_count": 42,
     "metadata": {},
     "output_type": "execute_result"
    }
   ],
   "source": [
    "# просмотр первых 10 строк moscow_genres\n",
    "moscow_genres.head(10)"
   ]
  },
  {
   "cell_type": "markdown",
   "metadata": {
    "deletable": false,
    "editable": false,
    "id": "cnPG2vnN_Zcv",
    "tags": [
     "start_task"
    ]
   },
   "source": [
    "**Задание 28**"
   ]
  },
  {
   "cell_type": "code",
   "execution_count": 43,
   "metadata": {
    "deletable": false,
    "id": "gluLIpE7_Zcv"
   },
   "outputs": [],
   "source": [
    "# одной строкой: группировка таблицы spb_general по столбцу 'genre', выбор столбца `genre`, подсчёт числа значений 'genre' методом count(), сохранение в spb_genres\n",
    "# сортировка получившегося Series в порядке убывания и сохранение обратно в spb_genres\n",
    "spb_genres = spb_general.groupby('genre')['genre'].count()\n",
    "spb_genres = spb_genres.sort_values(ascending=False)"
   ]
  },
  {
   "cell_type": "markdown",
   "metadata": {
    "deletable": false,
    "editable": false,
    "id": "5Doha_ODgyQ8",
    "tags": [
     "start_task"
    ]
   },
   "source": [
    "**Задание 29**"
   ]
  },
  {
   "cell_type": "code",
   "execution_count": 44,
   "metadata": {
    "deletable": false,
    "id": "uaGJHjVU_Zcv"
   },
   "outputs": [
    {
     "data": {
      "text/plain": [
       "genre\n",
       "pop            2431\n",
       "dance          1932\n",
       "rock           1879\n",
       "electronic     1736\n",
       "hiphop          960\n",
       "alternative     649\n",
       "classical       646\n",
       "rusrap          564\n",
       "ruspop          538\n",
       "world           515\n",
       "Name: genre, dtype: int64"
      ]
     },
     "execution_count": 44,
     "metadata": {},
     "output_type": "execute_result"
    }
   ],
   "source": [
    "# просмотр первых 10 строк spb_genres\n",
    "spb_genres.head(10)"
   ]
  },
  {
   "cell_type": "markdown",
   "metadata": {
    "deletable": false,
    "editable": false,
    "id": "RY51YJYu_Zcv"
   },
   "source": [
    "**Выводы**"
   ]
  },
  {
   "cell_type": "markdown",
   "metadata": {
    "deletable": false,
    "editable": false,
    "id": "nVhnJEm__Zcv"
   },
   "source": [
    "Гипотеза частично подтвердилась:\n",
    "* Поп-музыка — самый популярный жанр в Москве, как и предполагала гипотеза. Более того, в топ-10 жанров встречается близкий жанр — русская популярная музыка.\n",
    "* Вопреки ожиданиям, рэп одинаково популярен в Москве и Петербурге.\n"
   ]
  },
  {
   "cell_type": "markdown",
   "metadata": {
    "deletable": false,
    "editable": false,
    "id": "ykKQ0N65_Zcv"
   },
   "source": [
    "## Итоги исследования"
   ]
  },
  {
   "cell_type": "markdown",
   "metadata": {
    "deletable": false,
    "editable": false,
    "id": "tjUwbHb3_Zcv"
   },
   "source": [
    "Вы проверили три гипотезы и установили:\n",
    "\n",
    "1. День недели по-разному влияет на активность пользователей в Москве и Петербурге.\n",
    "\n",
    "Первая гипотеза полностью подтвердилась.\n",
    "\n",
    "2. Музыкальные предпочтения не сильно меняются в течение недели — будь то Москва или Петербург. Небольшие различия заметны в начале недели, по понедельникам:\n",
    "* в Москве слушают музыку жанра “world”,\n",
    "* в Петербурге — джаз и классику.\n",
    "\n",
    "Таким образом, вторая гипотеза подтвердилась лишь отчасти. Этот результат мог оказаться иным, если бы не пропуски в данных.\n",
    "\n",
    "3. Во вкусах пользователей Москвы и Петербурга больше общего, чем различий. Вопреки ожиданиям, предпочтения жанров в Петербурге напоминают московские.\n",
    "\n",
    "Третья гипотеза не подтвердилась. Если различия в предпочтениях и существуют, на основной массе пользователей они незаметны.\n",
    "\n",
    "**На практике исследования содержат проверки статистических гипотез.**\n",
    "Из части данных одного сервиса невозможно сделать какие-то выводы о всех пользователях сервиса без методов статистики.\n",
    "Проверки статистических гипотез покажут, насколько они достоверны, исходя из имеющихся данных.\n",
    "С методами проверок гипотез вы ещё познакомитесь в следующих темах."
   ]
  }
 ],
 "metadata": {
  "ExecuteTimeLog": [
   {
    "duration": 370,
    "start_time": "2023-12-24T13:15:17.099Z"
   },
   {
    "duration": 95,
    "start_time": "2023-12-24T13:16:23.205Z"
   },
   {
    "duration": 47,
    "start_time": "2023-12-24T13:17:27.725Z"
   },
   {
    "duration": 5,
    "start_time": "2023-12-24T13:18:09.047Z"
   },
   {
    "duration": 45,
    "start_time": "2023-12-24T13:18:19.157Z"
   },
   {
    "duration": 190,
    "start_time": "2023-12-24T13:19:22.133Z"
   },
   {
    "duration": 15,
    "start_time": "2023-12-24T13:20:10.493Z"
   },
   {
    "duration": 10,
    "start_time": "2023-12-24T13:20:37.287Z"
   },
   {
    "duration": 3,
    "start_time": "2023-12-24T13:28:20.473Z"
   },
   {
    "duration": 8,
    "start_time": "2023-12-24T13:31:32.663Z"
   },
   {
    "duration": 9,
    "start_time": "2023-12-24T13:33:31.964Z"
   },
   {
    "duration": 3,
    "start_time": "2023-12-24T13:40:32.032Z"
   },
   {
    "duration": 9,
    "start_time": "2023-12-24T13:40:42.503Z"
   },
   {
    "duration": 3,
    "start_time": "2023-12-24T13:40:44.959Z"
   },
   {
    "duration": 10,
    "start_time": "2023-12-24T13:42:10.727Z"
   },
   {
    "duration": 323,
    "start_time": "2023-12-24T13:44:16.154Z"
   },
   {
    "duration": 139,
    "start_time": "2023-12-24T13:44:16.478Z"
   },
   {
    "duration": 19,
    "start_time": "2023-12-24T13:44:16.618Z"
   },
   {
    "duration": 26,
    "start_time": "2023-12-24T13:44:16.638Z"
   },
   {
    "duration": 2,
    "start_time": "2023-12-24T13:44:16.666Z"
   },
   {
    "duration": 10,
    "start_time": "2023-12-24T13:44:16.669Z"
   },
   {
    "duration": 24,
    "start_time": "2023-12-24T13:44:16.680Z"
   },
   {
    "duration": 4,
    "start_time": "2023-12-24T13:44:16.705Z"
   },
   {
    "duration": 6,
    "start_time": "2023-12-24T13:44:16.711Z"
   },
   {
    "duration": 3,
    "start_time": "2023-12-24T13:44:16.718Z"
   },
   {
    "duration": 4,
    "start_time": "2023-12-24T13:44:16.722Z"
   },
   {
    "duration": 3,
    "start_time": "2023-12-24T13:44:16.727Z"
   },
   {
    "duration": 3,
    "start_time": "2023-12-24T13:44:16.731Z"
   },
   {
    "duration": 2,
    "start_time": "2023-12-24T13:44:16.737Z"
   },
   {
    "duration": 2,
    "start_time": "2023-12-24T13:44:16.740Z"
   },
   {
    "duration": 14,
    "start_time": "2023-12-24T13:44:16.744Z"
   },
   {
    "duration": 8,
    "start_time": "2023-12-24T13:44:16.759Z"
   },
   {
    "duration": 10,
    "start_time": "2023-12-24T13:44:16.768Z"
   },
   {
    "duration": 5,
    "start_time": "2023-12-24T13:44:16.780Z"
   },
   {
    "duration": 71,
    "start_time": "2023-12-24T13:44:16.787Z"
   },
   {
    "duration": 0,
    "start_time": "2023-12-24T13:44:16.860Z"
   },
   {
    "duration": 0,
    "start_time": "2023-12-24T13:44:16.861Z"
   },
   {
    "duration": 0,
    "start_time": "2023-12-24T13:44:16.862Z"
   },
   {
    "duration": 0,
    "start_time": "2023-12-24T13:44:16.863Z"
   },
   {
    "duration": 0,
    "start_time": "2023-12-24T13:44:16.864Z"
   },
   {
    "duration": 0,
    "start_time": "2023-12-24T13:44:16.865Z"
   },
   {
    "duration": 0,
    "start_time": "2023-12-24T13:44:16.866Z"
   },
   {
    "duration": 0,
    "start_time": "2023-12-24T13:44:16.867Z"
   },
   {
    "duration": 0,
    "start_time": "2023-12-24T13:44:16.868Z"
   },
   {
    "duration": 0,
    "start_time": "2023-12-24T13:44:16.869Z"
   },
   {
    "duration": 0,
    "start_time": "2023-12-24T13:44:16.870Z"
   },
   {
    "duration": 0,
    "start_time": "2023-12-24T13:44:16.871Z"
   },
   {
    "duration": 0,
    "start_time": "2023-12-24T13:44:16.872Z"
   },
   {
    "duration": 0,
    "start_time": "2023-12-24T13:44:16.874Z"
   },
   {
    "duration": 0,
    "start_time": "2023-12-24T13:44:16.875Z"
   },
   {
    "duration": 0,
    "start_time": "2023-12-24T13:44:16.876Z"
   },
   {
    "duration": 0,
    "start_time": "2023-12-24T13:44:16.877Z"
   },
   {
    "duration": 0,
    "start_time": "2023-12-24T13:44:16.878Z"
   },
   {
    "duration": 3,
    "start_time": "2023-12-24T13:53:03.520Z"
   },
   {
    "duration": 11,
    "start_time": "2023-12-24T13:53:58.015Z"
   },
   {
    "duration": 4,
    "start_time": "2023-12-24T13:53:59.856Z"
   },
   {
    "duration": 18,
    "start_time": "2023-12-24T13:55:06.304Z"
   },
   {
    "duration": 85,
    "start_time": "2023-12-24T14:04:25.129Z"
   },
   {
    "duration": 69,
    "start_time": "2023-12-24T14:04:47.960Z"
   },
   {
    "duration": 60,
    "start_time": "2023-12-24T14:05:29.792Z"
   },
   {
    "duration": 20,
    "start_time": "2023-12-24T14:05:50.593Z"
   },
   {
    "duration": 8,
    "start_time": "2023-12-24T14:09:55.097Z"
   },
   {
    "duration": 5,
    "start_time": "2023-12-24T14:10:46.097Z"
   },
   {
    "duration": 6,
    "start_time": "2023-12-24T14:11:21.560Z"
   },
   {
    "duration": 10,
    "start_time": "2023-12-24T14:12:20.856Z"
   },
   {
    "duration": 9,
    "start_time": "2023-12-24T14:13:40.602Z"
   },
   {
    "duration": 6,
    "start_time": "2023-12-24T14:13:56.745Z"
   },
   {
    "duration": 7,
    "start_time": "2023-12-24T14:14:47.025Z"
   },
   {
    "duration": 8,
    "start_time": "2023-12-24T14:17:26.259Z"
   },
   {
    "duration": 7,
    "start_time": "2023-12-24T14:30:09.883Z"
   },
   {
    "duration": 8,
    "start_time": "2023-12-24T14:30:46.035Z"
   },
   {
    "duration": 372,
    "start_time": "2023-12-24T14:31:02.591Z"
   },
   {
    "duration": 136,
    "start_time": "2023-12-24T14:31:02.965Z"
   },
   {
    "duration": 13,
    "start_time": "2023-12-24T14:31:03.103Z"
   },
   {
    "duration": 28,
    "start_time": "2023-12-24T14:31:03.117Z"
   },
   {
    "duration": 34,
    "start_time": "2023-12-24T14:31:03.146Z"
   },
   {
    "duration": 18,
    "start_time": "2023-12-24T14:31:03.182Z"
   },
   {
    "duration": 29,
    "start_time": "2023-12-24T14:31:03.201Z"
   },
   {
    "duration": 11,
    "start_time": "2023-12-24T14:31:03.232Z"
   },
   {
    "duration": 23,
    "start_time": "2023-12-24T14:31:03.244Z"
   },
   {
    "duration": 39,
    "start_time": "2023-12-24T14:31:03.269Z"
   },
   {
    "duration": 36,
    "start_time": "2023-12-24T14:31:03.309Z"
   },
   {
    "duration": 56,
    "start_time": "2023-12-24T14:31:03.346Z"
   },
   {
    "duration": 62,
    "start_time": "2023-12-24T14:31:03.403Z"
   },
   {
    "duration": 53,
    "start_time": "2023-12-24T14:31:03.467Z"
   },
   {
    "duration": 37,
    "start_time": "2023-12-24T14:31:03.521Z"
   },
   {
    "duration": 2,
    "start_time": "2023-12-24T14:31:03.559Z"
   },
   {
    "duration": 3,
    "start_time": "2023-12-24T14:31:03.562Z"
   },
   {
    "duration": 6,
    "start_time": "2023-12-24T14:31:03.566Z"
   },
   {
    "duration": 9,
    "start_time": "2023-12-24T14:31:03.573Z"
   },
   {
    "duration": 70,
    "start_time": "2023-12-24T14:31:03.583Z"
   },
   {
    "duration": 0,
    "start_time": "2023-12-24T14:31:03.654Z"
   },
   {
    "duration": 0,
    "start_time": "2023-12-24T14:31:03.655Z"
   },
   {
    "duration": 0,
    "start_time": "2023-12-24T14:31:03.656Z"
   },
   {
    "duration": 0,
    "start_time": "2023-12-24T14:31:03.657Z"
   },
   {
    "duration": 0,
    "start_time": "2023-12-24T14:31:03.657Z"
   },
   {
    "duration": 0,
    "start_time": "2023-12-24T14:31:03.658Z"
   },
   {
    "duration": 0,
    "start_time": "2023-12-24T14:31:03.658Z"
   },
   {
    "duration": 0,
    "start_time": "2023-12-24T14:31:03.659Z"
   },
   {
    "duration": 0,
    "start_time": "2023-12-24T14:31:03.660Z"
   },
   {
    "duration": 0,
    "start_time": "2023-12-24T14:31:03.661Z"
   },
   {
    "duration": 0,
    "start_time": "2023-12-24T14:31:03.661Z"
   },
   {
    "duration": 0,
    "start_time": "2023-12-24T14:31:03.662Z"
   },
   {
    "duration": 0,
    "start_time": "2023-12-24T14:31:03.663Z"
   },
   {
    "duration": 0,
    "start_time": "2023-12-24T14:31:03.664Z"
   },
   {
    "duration": 0,
    "start_time": "2023-12-24T14:31:03.665Z"
   },
   {
    "duration": 0,
    "start_time": "2023-12-24T14:31:03.666Z"
   },
   {
    "duration": 0,
    "start_time": "2023-12-24T14:31:03.666Z"
   },
   {
    "duration": 0,
    "start_time": "2023-12-24T14:31:03.667Z"
   },
   {
    "duration": 55,
    "start_time": "2023-12-24T14:34:21.667Z"
   },
   {
    "duration": 44,
    "start_time": "2023-12-24T14:35:59.604Z"
   },
   {
    "duration": 6,
    "start_time": "2023-12-24T14:38:24.109Z"
   },
   {
    "duration": 39,
    "start_time": "2023-12-24T14:38:37.965Z"
   },
   {
    "duration": 39,
    "start_time": "2023-12-24T14:39:19.997Z"
   },
   {
    "duration": 39,
    "start_time": "2023-12-24T14:40:27.829Z"
   },
   {
    "duration": 30,
    "start_time": "2023-12-24T14:41:02.844Z"
   },
   {
    "duration": 8,
    "start_time": "2023-12-24T14:41:16.421Z"
   },
   {
    "duration": 37,
    "start_time": "2023-12-24T14:41:55.565Z"
   },
   {
    "duration": 63,
    "start_time": "2023-12-24T14:42:01.013Z"
   },
   {
    "duration": 53,
    "start_time": "2023-12-24T14:42:45.477Z"
   },
   {
    "duration": 37,
    "start_time": "2023-12-24T14:42:52.380Z"
   },
   {
    "duration": 37,
    "start_time": "2023-12-24T14:43:30.293Z"
   },
   {
    "duration": 34,
    "start_time": "2023-12-24T14:43:45.677Z"
   },
   {
    "duration": 5,
    "start_time": "2023-12-24T14:49:23.285Z"
   },
   {
    "duration": 9,
    "start_time": "2023-12-24T14:50:18.590Z"
   },
   {
    "duration": 6,
    "start_time": "2023-12-24T14:50:54.198Z"
   },
   {
    "duration": 34,
    "start_time": "2023-12-24T14:52:35.334Z"
   },
   {
    "duration": 22,
    "start_time": "2023-12-24T15:02:56.519Z"
   },
   {
    "duration": 24,
    "start_time": "2023-12-24T15:03:03.374Z"
   },
   {
    "duration": 24,
    "start_time": "2023-12-24T15:03:54.841Z"
   },
   {
    "duration": 10,
    "start_time": "2023-12-24T15:06:00.808Z"
   },
   {
    "duration": 76,
    "start_time": "2023-12-24T15:08:11.607Z"
   },
   {
    "duration": 7,
    "start_time": "2023-12-24T15:08:16.719Z"
   },
   {
    "duration": 10,
    "start_time": "2023-12-24T15:08:36.489Z"
   },
   {
    "duration": 13,
    "start_time": "2023-12-24T15:16:08.544Z"
   },
   {
    "duration": 1050,
    "start_time": "2023-12-24T15:16:33.407Z"
   },
   {
    "duration": 10,
    "start_time": "2023-12-24T15:20:31.128Z"
   },
   {
    "duration": 214,
    "start_time": "2023-12-24T15:21:34.528Z"
   },
   {
    "duration": 5,
    "start_time": "2023-12-24T15:25:36.560Z"
   },
   {
    "duration": 7,
    "start_time": "2023-12-24T15:25:48.031Z"
   },
   {
    "duration": 7,
    "start_time": "2023-12-24T15:26:07.575Z"
   },
   {
    "duration": 9,
    "start_time": "2023-12-24T15:26:38.059Z"
   },
   {
    "duration": 22,
    "start_time": "2023-12-24T15:27:55.635Z"
   },
   {
    "duration": 22,
    "start_time": "2023-12-24T15:28:07.643Z"
   },
   {
    "duration": 20,
    "start_time": "2023-12-24T15:28:20.184Z"
   },
   {
    "duration": 9,
    "start_time": "2023-12-24T15:36:46.913Z"
   },
   {
    "duration": 208,
    "start_time": "2023-12-24T15:36:56.624Z"
   },
   {
    "duration": 212,
    "start_time": "2023-12-24T15:37:06.804Z"
   },
   {
    "duration": 213,
    "start_time": "2023-12-24T15:37:18.208Z"
   },
   {
    "duration": 22,
    "start_time": "2023-12-24T16:32:38.060Z"
   },
   {
    "duration": 22,
    "start_time": "2023-12-24T17:08:35.553Z"
   },
   {
    "duration": 10,
    "start_time": "2023-12-24T17:08:54.079Z"
   },
   {
    "duration": 3,
    "start_time": "2023-12-24T17:11:08.575Z"
   },
   {
    "duration": 8,
    "start_time": "2023-12-24T17:11:59.416Z"
   },
   {
    "duration": 7,
    "start_time": "2023-12-24T17:12:09.342Z"
   },
   {
    "duration": 203,
    "start_time": "2023-12-24T17:12:32.048Z"
   },
   {
    "duration": 5,
    "start_time": "2023-12-24T17:13:00.319Z"
   },
   {
    "duration": 237,
    "start_time": "2023-12-24T17:13:16.894Z"
   },
   {
    "duration": 10,
    "start_time": "2023-12-24T17:14:36.001Z"
   },
   {
    "duration": 6,
    "start_time": "2023-12-24T17:15:01.207Z"
   },
   {
    "duration": 10,
    "start_time": "2023-12-24T17:15:08.702Z"
   },
   {
    "duration": 10,
    "start_time": "2023-12-24T17:15:15.063Z"
   },
   {
    "duration": 73,
    "start_time": "2023-12-24T17:21:14.095Z"
   },
   {
    "duration": 10,
    "start_time": "2023-12-24T17:21:24.198Z"
   },
   {
    "duration": 19,
    "start_time": "2023-12-24T17:24:08.344Z"
   },
   {
    "duration": 16,
    "start_time": "2023-12-24T17:24:42.032Z"
   },
   {
    "duration": 3,
    "start_time": "2023-12-24T17:33:20.627Z"
   },
   {
    "duration": 373,
    "start_time": "2023-12-24T17:34:01.193Z"
   },
   {
    "duration": 153,
    "start_time": "2023-12-24T17:34:01.568Z"
   },
   {
    "duration": 15,
    "start_time": "2023-12-24T17:34:01.722Z"
   },
   {
    "duration": 37,
    "start_time": "2023-12-24T17:34:01.739Z"
   },
   {
    "duration": 19,
    "start_time": "2023-12-24T17:34:01.777Z"
   },
   {
    "duration": 30,
    "start_time": "2023-12-24T17:34:01.797Z"
   },
   {
    "duration": 38,
    "start_time": "2023-12-24T17:34:01.828Z"
   },
   {
    "duration": 54,
    "start_time": "2023-12-24T17:34:01.867Z"
   },
   {
    "duration": 67,
    "start_time": "2023-12-24T17:34:01.922Z"
   },
   {
    "duration": 37,
    "start_time": "2023-12-24T17:34:01.991Z"
   },
   {
    "duration": 47,
    "start_time": "2023-12-24T17:34:02.029Z"
   },
   {
    "duration": 83,
    "start_time": "2023-12-24T17:34:02.078Z"
   },
   {
    "duration": 60,
    "start_time": "2023-12-24T17:34:02.162Z"
   },
   {
    "duration": 47,
    "start_time": "2023-12-24T17:34:02.224Z"
   },
   {
    "duration": 40,
    "start_time": "2023-12-24T17:34:02.273Z"
   },
   {
    "duration": 29,
    "start_time": "2023-12-24T17:34:02.314Z"
   },
   {
    "duration": 54,
    "start_time": "2023-12-24T17:34:02.344Z"
   },
   {
    "duration": 3,
    "start_time": "2023-12-24T17:34:02.399Z"
   },
   {
    "duration": 49,
    "start_time": "2023-12-24T17:34:02.403Z"
   },
   {
    "duration": 70,
    "start_time": "2023-12-24T17:34:02.453Z"
   },
   {
    "duration": 0,
    "start_time": "2023-12-24T17:34:02.524Z"
   },
   {
    "duration": 0,
    "start_time": "2023-12-24T17:34:02.525Z"
   },
   {
    "duration": 0,
    "start_time": "2023-12-24T17:34:02.526Z"
   },
   {
    "duration": 0,
    "start_time": "2023-12-24T17:34:02.527Z"
   },
   {
    "duration": 0,
    "start_time": "2023-12-24T17:34:02.528Z"
   },
   {
    "duration": 0,
    "start_time": "2023-12-24T17:34:02.529Z"
   },
   {
    "duration": 0,
    "start_time": "2023-12-24T17:34:02.531Z"
   },
   {
    "duration": 0,
    "start_time": "2023-12-24T17:34:02.532Z"
   },
   {
    "duration": 0,
    "start_time": "2023-12-24T17:34:02.533Z"
   },
   {
    "duration": 0,
    "start_time": "2023-12-24T17:34:02.534Z"
   },
   {
    "duration": 0,
    "start_time": "2023-12-24T17:34:02.536Z"
   },
   {
    "duration": 0,
    "start_time": "2023-12-24T17:34:02.537Z"
   },
   {
    "duration": 0,
    "start_time": "2023-12-24T17:34:02.538Z"
   },
   {
    "duration": 0,
    "start_time": "2023-12-24T17:34:02.539Z"
   },
   {
    "duration": 0,
    "start_time": "2023-12-24T17:34:02.540Z"
   },
   {
    "duration": 0,
    "start_time": "2023-12-24T17:34:02.541Z"
   },
   {
    "duration": 0,
    "start_time": "2023-12-24T17:34:02.542Z"
   },
   {
    "duration": 0,
    "start_time": "2023-12-24T17:34:02.543Z"
   },
   {
    "duration": 3,
    "start_time": "2023-12-24T17:34:41.281Z"
   },
   {
    "duration": 4,
    "start_time": "2023-12-24T17:34:52.336Z"
   },
   {
    "duration": 3,
    "start_time": "2023-12-24T17:35:22.353Z"
   },
   {
    "duration": 26,
    "start_time": "2023-12-24T18:22:06.141Z"
   },
   {
    "duration": 9,
    "start_time": "2023-12-24T18:22:56.868Z"
   },
   {
    "duration": 13,
    "start_time": "2023-12-25T06:29:36.997Z"
   },
   {
    "duration": 74,
    "start_time": "2023-12-25T06:38:34.234Z"
   },
   {
    "duration": 3,
    "start_time": "2023-12-25T06:38:40.984Z"
   },
   {
    "duration": 3,
    "start_time": "2023-12-25T06:39:29.435Z"
   },
   {
    "duration": 3,
    "start_time": "2023-12-25T06:42:17.628Z"
   },
   {
    "duration": 43,
    "start_time": "2023-12-25T06:43:55.680Z"
   },
   {
    "duration": 443,
    "start_time": "2023-12-25T06:44:27.423Z"
   },
   {
    "duration": 237,
    "start_time": "2023-12-25T06:44:27.869Z"
   },
   {
    "duration": 18,
    "start_time": "2023-12-25T06:44:28.108Z"
   },
   {
    "duration": 34,
    "start_time": "2023-12-25T06:44:28.128Z"
   },
   {
    "duration": 8,
    "start_time": "2023-12-25T06:44:28.164Z"
   },
   {
    "duration": 11,
    "start_time": "2023-12-25T06:44:28.173Z"
   },
   {
    "duration": 14,
    "start_time": "2023-12-25T06:44:28.186Z"
   },
   {
    "duration": 5,
    "start_time": "2023-12-25T06:44:28.202Z"
   },
   {
    "duration": 43,
    "start_time": "2023-12-25T06:44:28.209Z"
   },
   {
    "duration": 20,
    "start_time": "2023-12-25T06:44:28.256Z"
   },
   {
    "duration": 26,
    "start_time": "2023-12-25T06:44:28.278Z"
   },
   {
    "duration": 85,
    "start_time": "2023-12-25T06:44:28.306Z"
   },
   {
    "duration": 85,
    "start_time": "2023-12-25T06:44:28.393Z"
   },
   {
    "duration": 64,
    "start_time": "2023-12-25T06:44:28.479Z"
   },
   {
    "duration": 46,
    "start_time": "2023-12-25T06:44:28.544Z"
   },
   {
    "duration": 11,
    "start_time": "2023-12-25T06:44:28.591Z"
   },
   {
    "duration": 64,
    "start_time": "2023-12-25T06:44:28.603Z"
   },
   {
    "duration": 4,
    "start_time": "2023-12-25T06:44:28.668Z"
   },
   {
    "duration": 14,
    "start_time": "2023-12-25T06:44:28.673Z"
   },
   {
    "duration": 3,
    "start_time": "2023-12-25T06:44:28.688Z"
   },
   {
    "duration": 14,
    "start_time": "2023-12-25T06:44:28.693Z"
   },
   {
    "duration": 6,
    "start_time": "2023-12-25T06:44:28.708Z"
   },
   {
    "duration": 4,
    "start_time": "2023-12-25T06:44:28.716Z"
   },
   {
    "duration": 22,
    "start_time": "2023-12-25T06:44:28.721Z"
   },
   {
    "duration": 5,
    "start_time": "2023-12-25T06:44:28.744Z"
   },
   {
    "duration": 3,
    "start_time": "2023-12-25T06:44:28.750Z"
   },
   {
    "duration": 13,
    "start_time": "2023-12-25T06:44:28.755Z"
   },
   {
    "duration": 8,
    "start_time": "2023-12-25T06:44:28.771Z"
   },
   {
    "duration": 8,
    "start_time": "2023-12-25T06:44:28.780Z"
   },
   {
    "duration": 90,
    "start_time": "2023-12-25T06:44:28.790Z"
   },
   {
    "duration": 0,
    "start_time": "2023-12-25T06:44:28.882Z"
   },
   {
    "duration": 0,
    "start_time": "2023-12-25T06:44:28.883Z"
   },
   {
    "duration": 0,
    "start_time": "2023-12-25T06:44:28.884Z"
   },
   {
    "duration": 0,
    "start_time": "2023-12-25T06:44:28.885Z"
   },
   {
    "duration": 0,
    "start_time": "2023-12-25T06:44:28.886Z"
   },
   {
    "duration": 0,
    "start_time": "2023-12-25T06:44:28.887Z"
   },
   {
    "duration": 0,
    "start_time": "2023-12-25T06:44:28.888Z"
   },
   {
    "duration": 0,
    "start_time": "2023-12-25T06:44:28.889Z"
   },
   {
    "duration": 7,
    "start_time": "2023-12-25T06:44:36.935Z"
   },
   {
    "duration": 13,
    "start_time": "2023-12-25T06:48:16.313Z"
   },
   {
    "duration": 9,
    "start_time": "2023-12-25T06:48:17.552Z"
   },
   {
    "duration": 10,
    "start_time": "2023-12-25T06:48:18.737Z"
   },
   {
    "duration": 8,
    "start_time": "2023-12-25T06:48:19.672Z"
   },
   {
    "duration": 8,
    "start_time": "2023-12-25T06:48:21.441Z"
   },
   {
    "duration": 3,
    "start_time": "2023-12-25T06:49:34.721Z"
   },
   {
    "duration": 9,
    "start_time": "2023-12-25T06:49:36.290Z"
   },
   {
    "duration": 372,
    "start_time": "2023-12-25T06:54:42.997Z"
   },
   {
    "duration": 175,
    "start_time": "2023-12-25T06:54:43.371Z"
   },
   {
    "duration": 17,
    "start_time": "2023-12-25T06:54:43.548Z"
   },
   {
    "duration": 30,
    "start_time": "2023-12-25T06:54:43.566Z"
   },
   {
    "duration": 3,
    "start_time": "2023-12-25T06:54:43.597Z"
   },
   {
    "duration": 5,
    "start_time": "2023-12-25T06:54:43.601Z"
   },
   {
    "duration": 35,
    "start_time": "2023-12-25T06:54:43.608Z"
   },
   {
    "duration": 12,
    "start_time": "2023-12-25T06:54:43.644Z"
   },
   {
    "duration": 26,
    "start_time": "2023-12-25T06:54:43.658Z"
   },
   {
    "duration": 19,
    "start_time": "2023-12-25T06:54:43.686Z"
   },
   {
    "duration": 36,
    "start_time": "2023-12-25T06:54:43.707Z"
   },
   {
    "duration": 70,
    "start_time": "2023-12-25T06:54:43.744Z"
   },
   {
    "duration": 87,
    "start_time": "2023-12-25T06:54:43.816Z"
   },
   {
    "duration": 63,
    "start_time": "2023-12-25T06:54:43.905Z"
   },
   {
    "duration": 42,
    "start_time": "2023-12-25T06:54:43.970Z"
   },
   {
    "duration": 11,
    "start_time": "2023-12-25T06:54:44.013Z"
   },
   {
    "duration": 55,
    "start_time": "2023-12-25T06:54:44.025Z"
   },
   {
    "duration": 4,
    "start_time": "2023-12-25T06:54:44.081Z"
   },
   {
    "duration": 21,
    "start_time": "2023-12-25T06:54:44.086Z"
   },
   {
    "duration": 3,
    "start_time": "2023-12-25T06:54:44.108Z"
   },
   {
    "duration": 17,
    "start_time": "2023-12-25T06:54:44.112Z"
   },
   {
    "duration": 14,
    "start_time": "2023-12-25T06:54:44.130Z"
   },
   {
    "duration": 9,
    "start_time": "2023-12-25T06:54:44.146Z"
   },
   {
    "duration": 9,
    "start_time": "2023-12-25T06:54:44.156Z"
   },
   {
    "duration": 9,
    "start_time": "2023-12-25T06:54:44.166Z"
   },
   {
    "duration": 9,
    "start_time": "2023-12-25T06:54:44.177Z"
   },
   {
    "duration": 10,
    "start_time": "2023-12-25T06:54:44.187Z"
   },
   {
    "duration": 10,
    "start_time": "2023-12-25T06:54:44.200Z"
   },
   {
    "duration": 4,
    "start_time": "2023-12-25T06:54:44.211Z"
   },
   {
    "duration": 81,
    "start_time": "2023-12-25T06:54:44.216Z"
   },
   {
    "duration": 0,
    "start_time": "2023-12-25T06:54:44.298Z"
   },
   {
    "duration": 0,
    "start_time": "2023-12-25T06:54:44.299Z"
   },
   {
    "duration": 0,
    "start_time": "2023-12-25T06:54:44.300Z"
   },
   {
    "duration": 0,
    "start_time": "2023-12-25T06:54:44.302Z"
   },
   {
    "duration": 0,
    "start_time": "2023-12-25T06:54:44.303Z"
   },
   {
    "duration": 0,
    "start_time": "2023-12-25T06:54:44.304Z"
   },
   {
    "duration": 0,
    "start_time": "2023-12-25T06:54:44.305Z"
   },
   {
    "duration": 0,
    "start_time": "2023-12-25T06:54:44.306Z"
   },
   {
    "duration": 4,
    "start_time": "2023-12-25T06:54:51.528Z"
   },
   {
    "duration": 9,
    "start_time": "2023-12-25T06:54:52.749Z"
   },
   {
    "duration": 5,
    "start_time": "2023-12-25T06:59:27.785Z"
   },
   {
    "duration": 8,
    "start_time": "2023-12-25T06:59:30.504Z"
   },
   {
    "duration": 2,
    "start_time": "2023-12-25T07:04:19.219Z"
   },
   {
    "duration": 182,
    "start_time": "2023-12-25T07:04:20.932Z"
   },
   {
    "duration": 11,
    "start_time": "2023-12-25T07:04:21.851Z"
   },
   {
    "duration": 33,
    "start_time": "2023-12-25T07:04:24.227Z"
   },
   {
    "duration": 4,
    "start_time": "2023-12-25T07:04:27.995Z"
   },
   {
    "duration": 11,
    "start_time": "2023-12-25T07:04:33.491Z"
   },
   {
    "duration": 4,
    "start_time": "2023-12-25T07:04:35.698Z"
   },
   {
    "duration": 19,
    "start_time": "2023-12-25T07:04:38.187Z"
   },
   {
    "duration": 28,
    "start_time": "2023-12-25T07:04:40.043Z"
   },
   {
    "duration": 62,
    "start_time": "2023-12-25T07:04:42.611Z"
   },
   {
    "duration": 87,
    "start_time": "2023-12-25T07:04:44.507Z"
   },
   {
    "duration": 55,
    "start_time": "2023-12-25T07:04:45.981Z"
   },
   {
    "duration": 43,
    "start_time": "2023-12-25T07:04:48.460Z"
   },
   {
    "duration": 17,
    "start_time": "2023-12-25T07:04:56.915Z"
   },
   {
    "duration": 50,
    "start_time": "2023-12-25T07:05:01.788Z"
   },
   {
    "duration": 4,
    "start_time": "2023-12-25T07:05:05.876Z"
   },
   {
    "duration": 12,
    "start_time": "2023-12-25T07:05:11.699Z"
   },
   {
    "duration": 3,
    "start_time": "2023-12-25T07:05:15.692Z"
   },
   {
    "duration": 9,
    "start_time": "2023-12-25T07:05:17.990Z"
   },
   {
    "duration": 8,
    "start_time": "2023-12-25T07:05:20.557Z"
   },
   {
    "duration": 9,
    "start_time": "2023-12-25T07:05:26.949Z"
   },
   {
    "duration": 9,
    "start_time": "2023-12-25T07:05:28.508Z"
   },
   {
    "duration": 11,
    "start_time": "2023-12-25T07:05:29.389Z"
   },
   {
    "duration": 12,
    "start_time": "2023-12-25T07:06:17.621Z"
   },
   {
    "duration": 3,
    "start_time": "2023-12-25T07:08:19.413Z"
   },
   {
    "duration": 9,
    "start_time": "2023-12-25T07:08:21.294Z"
   },
   {
    "duration": 13,
    "start_time": "2023-12-25T07:12:54.752Z"
   },
   {
    "duration": 377,
    "start_time": "2023-12-25T07:13:03.194Z"
   },
   {
    "duration": 184,
    "start_time": "2023-12-25T07:13:03.573Z"
   },
   {
    "duration": 19,
    "start_time": "2023-12-25T07:13:03.759Z"
   },
   {
    "duration": 60,
    "start_time": "2023-12-25T07:13:03.780Z"
   },
   {
    "duration": 45,
    "start_time": "2023-12-25T07:13:03.842Z"
   },
   {
    "duration": 22,
    "start_time": "2023-12-25T07:13:03.889Z"
   },
   {
    "duration": 31,
    "start_time": "2023-12-25T07:13:03.913Z"
   },
   {
    "duration": 37,
    "start_time": "2023-12-25T07:13:03.946Z"
   },
   {
    "duration": 84,
    "start_time": "2023-12-25T07:13:03.985Z"
   },
   {
    "duration": 53,
    "start_time": "2023-12-25T07:13:04.071Z"
   },
   {
    "duration": 36,
    "start_time": "2023-12-25T07:13:04.125Z"
   },
   {
    "duration": 89,
    "start_time": "2023-12-25T07:13:04.163Z"
   },
   {
    "duration": 76,
    "start_time": "2023-12-25T07:13:04.254Z"
   },
   {
    "duration": 65,
    "start_time": "2023-12-25T07:13:04.331Z"
   },
   {
    "duration": 51,
    "start_time": "2023-12-25T07:13:04.397Z"
   },
   {
    "duration": 12,
    "start_time": "2023-12-25T07:13:04.449Z"
   },
   {
    "duration": 53,
    "start_time": "2023-12-25T07:13:04.463Z"
   },
   {
    "duration": 5,
    "start_time": "2023-12-25T07:13:04.518Z"
   },
   {
    "duration": 42,
    "start_time": "2023-12-25T07:13:04.524Z"
   },
   {
    "duration": 3,
    "start_time": "2023-12-25T07:13:04.567Z"
   },
   {
    "duration": 55,
    "start_time": "2023-12-25T07:13:04.572Z"
   },
   {
    "duration": 15,
    "start_time": "2023-12-25T07:13:04.629Z"
   },
   {
    "duration": 17,
    "start_time": "2023-12-25T07:13:04.646Z"
   },
   {
    "duration": 21,
    "start_time": "2023-12-25T07:13:04.665Z"
   },
   {
    "duration": 17,
    "start_time": "2023-12-25T07:13:04.688Z"
   },
   {
    "duration": 9,
    "start_time": "2023-12-25T07:13:04.706Z"
   },
   {
    "duration": 3,
    "start_time": "2023-12-25T07:13:04.716Z"
   },
   {
    "duration": 3,
    "start_time": "2023-12-25T07:13:04.721Z"
   },
   {
    "duration": 8,
    "start_time": "2023-12-25T07:13:04.725Z"
   },
   {
    "duration": 158,
    "start_time": "2023-12-25T07:13:04.734Z"
   },
   {
    "duration": 0,
    "start_time": "2023-12-25T07:13:04.894Z"
   },
   {
    "duration": 0,
    "start_time": "2023-12-25T07:13:04.895Z"
   },
   {
    "duration": 0,
    "start_time": "2023-12-25T07:13:04.897Z"
   },
   {
    "duration": 0,
    "start_time": "2023-12-25T07:13:04.898Z"
   },
   {
    "duration": 0,
    "start_time": "2023-12-25T07:13:04.899Z"
   },
   {
    "duration": 0,
    "start_time": "2023-12-25T07:13:04.900Z"
   },
   {
    "duration": 0,
    "start_time": "2023-12-25T07:13:04.901Z"
   },
   {
    "duration": 0,
    "start_time": "2023-12-25T07:13:04.902Z"
   },
   {
    "duration": 61,
    "start_time": "2023-12-25T07:15:30.628Z"
   },
   {
    "duration": 4,
    "start_time": "2023-12-25T07:15:42.907Z"
   },
   {
    "duration": 8,
    "start_time": "2023-12-25T07:15:43.979Z"
   },
   {
    "duration": 3,
    "start_time": "2023-12-25T07:16:37.876Z"
   },
   {
    "duration": 8,
    "start_time": "2023-12-25T07:16:42.996Z"
   },
   {
    "duration": 3,
    "start_time": "2023-12-25T07:16:57.029Z"
   },
   {
    "duration": 9,
    "start_time": "2023-12-25T07:16:58.413Z"
   },
   {
    "duration": 10,
    "start_time": "2023-12-25T07:17:09.507Z"
   },
   {
    "duration": 3,
    "start_time": "2023-12-25T07:17:16.413Z"
   },
   {
    "duration": 8,
    "start_time": "2023-12-25T07:17:17.883Z"
   },
   {
    "duration": 3,
    "start_time": "2023-12-25T07:18:12.220Z"
   },
   {
    "duration": 13,
    "start_time": "2023-12-25T07:18:13.676Z"
   },
   {
    "duration": 5,
    "start_time": "2023-12-25T07:18:51.182Z"
   },
   {
    "duration": 8,
    "start_time": "2023-12-25T07:18:52.046Z"
   },
   {
    "duration": 3,
    "start_time": "2023-12-25T07:18:57.964Z"
   },
   {
    "duration": 172,
    "start_time": "2023-12-25T07:18:59.541Z"
   },
   {
    "duration": 10,
    "start_time": "2023-12-25T07:19:01.407Z"
   },
   {
    "duration": 31,
    "start_time": "2023-12-25T07:19:03.020Z"
   },
   {
    "duration": 3,
    "start_time": "2023-12-25T07:19:05.861Z"
   },
   {
    "duration": 12,
    "start_time": "2023-12-25T07:19:09.036Z"
   },
   {
    "duration": 5,
    "start_time": "2023-12-25T07:19:11.197Z"
   },
   {
    "duration": 32,
    "start_time": "2023-12-25T07:19:14.764Z"
   },
   {
    "duration": 17,
    "start_time": "2023-12-25T07:19:16.493Z"
   },
   {
    "duration": 29,
    "start_time": "2023-12-25T07:19:18.460Z"
   },
   {
    "duration": 65,
    "start_time": "2023-12-25T07:19:20.957Z"
   },
   {
    "duration": 69,
    "start_time": "2023-12-25T07:19:22.709Z"
   },
   {
    "duration": 54,
    "start_time": "2023-12-25T07:19:24.804Z"
   },
   {
    "duration": 41,
    "start_time": "2023-12-25T07:19:26.260Z"
   },
   {
    "duration": 11,
    "start_time": "2023-12-25T07:19:28.901Z"
   },
   {
    "duration": 42,
    "start_time": "2023-12-25T07:19:30.589Z"
   },
   {
    "duration": 4,
    "start_time": "2023-12-25T07:19:33.478Z"
   },
   {
    "duration": 12,
    "start_time": "2023-12-25T07:19:37.926Z"
   },
   {
    "duration": 3,
    "start_time": "2023-12-25T07:19:42.726Z"
   },
   {
    "duration": 7,
    "start_time": "2023-12-25T07:19:44.229Z"
   },
   {
    "duration": 3,
    "start_time": "2023-12-25T07:22:20.144Z"
   },
   {
    "duration": 7,
    "start_time": "2023-12-25T07:22:21.424Z"
   },
   {
    "duration": 3,
    "start_time": "2023-12-25T07:35:36.864Z"
   },
   {
    "duration": 17,
    "start_time": "2023-12-25T07:35:38.704Z"
   },
   {
    "duration": 3,
    "start_time": "2023-12-25T07:36:14.201Z"
   },
   {
    "duration": 18,
    "start_time": "2023-12-25T07:36:16.649Z"
   },
   {
    "duration": 17,
    "start_time": "2023-12-25T07:36:18.594Z"
   },
   {
    "duration": 15,
    "start_time": "2023-12-25T07:36:20.745Z"
   },
   {
    "duration": 15,
    "start_time": "2023-12-25T07:36:22.441Z"
   },
   {
    "duration": 16,
    "start_time": "2023-12-25T07:36:23.329Z"
   },
   {
    "duration": 15,
    "start_time": "2023-12-25T07:36:24.112Z"
   },
   {
    "duration": 11,
    "start_time": "2023-12-25T07:39:33.394Z"
   },
   {
    "duration": 32,
    "start_time": "2023-12-25T07:41:50.429Z"
   },
   {
    "duration": 10,
    "start_time": "2023-12-25T07:42:13.949Z"
   },
   {
    "duration": 74,
    "start_time": "2023-12-25T07:44:17.846Z"
   },
   {
    "duration": 11,
    "start_time": "2023-12-25T07:48:10.416Z"
   },
   {
    "duration": 10,
    "start_time": "2023-12-25T07:48:12.312Z"
   },
   {
    "duration": 5,
    "start_time": "2023-12-25T07:56:52.974Z"
   },
   {
    "duration": 4,
    "start_time": "2023-12-25T07:58:12.247Z"
   },
   {
    "duration": 18,
    "start_time": "2023-12-25T08:05:11.609Z"
   },
   {
    "duration": 11,
    "start_time": "2023-12-25T08:07:28.900Z"
   },
   {
    "duration": 20,
    "start_time": "2023-12-25T08:07:30.667Z"
   },
   {
    "duration": 14,
    "start_time": "2023-12-25T08:07:36.859Z"
   },
   {
    "duration": 390,
    "start_time": "2023-12-25T08:09:33.377Z"
   },
   {
    "duration": 181,
    "start_time": "2023-12-25T08:09:33.769Z"
   },
   {
    "duration": 16,
    "start_time": "2023-12-25T08:09:33.952Z"
   },
   {
    "duration": 40,
    "start_time": "2023-12-25T08:09:33.970Z"
   },
   {
    "duration": 11,
    "start_time": "2023-12-25T08:09:34.012Z"
   },
   {
    "duration": 31,
    "start_time": "2023-12-25T08:09:34.025Z"
   },
   {
    "duration": 36,
    "start_time": "2023-12-25T08:09:34.058Z"
   },
   {
    "duration": 27,
    "start_time": "2023-12-25T08:09:34.096Z"
   },
   {
    "duration": 57,
    "start_time": "2023-12-25T08:09:34.125Z"
   },
   {
    "duration": 63,
    "start_time": "2023-12-25T08:09:34.184Z"
   },
   {
    "duration": 31,
    "start_time": "2023-12-25T08:09:34.249Z"
   },
   {
    "duration": 90,
    "start_time": "2023-12-25T08:09:34.282Z"
   },
   {
    "duration": 81,
    "start_time": "2023-12-25T08:09:34.373Z"
   },
   {
    "duration": 57,
    "start_time": "2023-12-25T08:09:34.455Z"
   },
   {
    "duration": 56,
    "start_time": "2023-12-25T08:09:34.513Z"
   },
   {
    "duration": 12,
    "start_time": "2023-12-25T08:09:34.570Z"
   },
   {
    "duration": 48,
    "start_time": "2023-12-25T08:09:34.583Z"
   },
   {
    "duration": 4,
    "start_time": "2023-12-25T08:09:34.642Z"
   },
   {
    "duration": 19,
    "start_time": "2023-12-25T08:09:34.647Z"
   },
   {
    "duration": 3,
    "start_time": "2023-12-25T08:09:34.668Z"
   },
   {
    "duration": 17,
    "start_time": "2023-12-25T08:09:34.673Z"
   },
   {
    "duration": 13,
    "start_time": "2023-12-25T08:09:34.692Z"
   },
   {
    "duration": 40,
    "start_time": "2023-12-25T08:09:34.707Z"
   },
   {
    "duration": 13,
    "start_time": "2023-12-25T08:09:34.749Z"
   },
   {
    "duration": 16,
    "start_time": "2023-12-25T08:09:34.764Z"
   },
   {
    "duration": 13,
    "start_time": "2023-12-25T08:09:34.782Z"
   },
   {
    "duration": 106,
    "start_time": "2023-12-25T08:09:34.797Z"
   },
   {
    "duration": 10,
    "start_time": "2023-12-25T08:09:34.906Z"
   },
   {
    "duration": 19,
    "start_time": "2023-12-25T08:09:34.917Z"
   },
   {
    "duration": 5,
    "start_time": "2023-12-25T08:09:34.938Z"
   },
   {
    "duration": 20,
    "start_time": "2023-12-25T08:09:34.945Z"
   },
   {
    "duration": 10,
    "start_time": "2023-12-25T08:09:34.967Z"
   },
   {
    "duration": 17,
    "start_time": "2023-12-25T08:09:34.978Z"
   },
   {
    "duration": 10,
    "start_time": "2023-12-25T08:09:34.996Z"
   },
   {
    "duration": 2,
    "start_time": "2023-12-25T08:09:35.007Z"
   },
   {
    "duration": 4,
    "start_time": "2023-12-25T08:09:35.011Z"
   },
   {
    "duration": 2,
    "start_time": "2023-12-25T08:09:35.043Z"
   },
   {
    "duration": 14,
    "start_time": "2023-12-25T08:09:35.046Z"
   },
   {
    "duration": 73,
    "start_time": "2023-12-25T08:13:11.880Z"
   },
   {
    "duration": 12,
    "start_time": "2023-12-25T08:13:51.608Z"
   },
   {
    "duration": 9,
    "start_time": "2023-12-25T08:14:33.856Z"
   },
   {
    "duration": 5,
    "start_time": "2023-12-25T08:15:22.882Z"
   },
   {
    "duration": 7,
    "start_time": "2023-12-25T08:17:00.778Z"
   },
   {
    "duration": 4,
    "start_time": "2023-12-25T08:17:21.876Z"
   }
  ],
  "celltoolbar": "Отсутствует",
  "colab": {
   "collapsed_sections": [
    "E0vqbgi9ay0H",
    "VUC88oWjTJw2"
   ],
   "provenance": []
  },
  "kernelspec": {
   "display_name": "Python 3 (ipykernel)",
   "language": "python",
   "name": "python3"
  },
  "language_info": {
   "codemirror_mode": {
    "name": "ipython",
    "version": 3
   },
   "file_extension": ".py",
   "mimetype": "text/x-python",
   "name": "python",
   "nbconvert_exporter": "python",
   "pygments_lexer": "ipython3",
   "version": "3.9.5"
  },
  "toc": {
   "base_numbering": 1,
   "nav_menu": {
    "height": "215px",
    "width": "403px"
   },
   "number_sections": true,
   "sideBar": true,
   "skip_h1_title": true,
   "title_cell": "Table of Contents",
   "title_sidebar": "Contents",
   "toc_cell": false,
   "toc_position": {
    "height": "calc(100% - 180px)",
    "left": "10px",
    "top": "150px",
    "width": "285.825px"
   },
   "toc_section_display": true,
   "toc_window_display": false
  }
 },
 "nbformat": 4,
 "nbformat_minor": 1
}
